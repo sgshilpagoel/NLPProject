{
  "nbformat": 4,
  "nbformat_minor": 0,
  "metadata": {
    "colab": {
      "name": "NMT_Spa_Eng.ipynb",
      "provenance": [],
      "collapsed_sections": [],
      "toc_visible": true,
      "machine_shape": "hm"
    },
    "kernelspec": {
      "name": "python3",
      "display_name": "Python 3"
    },
    "accelerator": "TPU"
  },
  "cells": [
    {
      "cell_type": "code",
      "metadata": {
        "id": "djhFyrSi9BkM",
        "colab_type": "code",
        "colab": {
          "base_uri": "https://localhost:8080/",
          "height": 99
        },
        "outputId": "b0339034-a788-41e2-8a4a-8ee23c567d24"
      },
      "source": [
        "import pandas as pd\n",
        "import numpy as np\n",
        "import sklearn\n",
        "import nltk\n",
        "import keras\n",
        "import string as st\n",
        "from keras.preprocessing.text import Tokenizer\n",
        "from keras.preprocessing.sequence import pad_sequences\n",
        "from google.colab import files\n",
        "from keras.models import Sequential\n",
        "from keras.layers import Embedding\n",
        "from keras.layers import RepeatVector\n",
        "from keras.layers import LSTM\n",
        "from keras.layers import Dense\n",
        "from keras import optimizers\n",
        "from nltk.translate.bleu_score import corpus_bleu\n",
        "import matplotlib.pyplot as plt"
      ],
      "execution_count": 1,
      "outputs": [
        {
          "output_type": "stream",
          "text": [
            "Using TensorFlow backend.\n"
          ],
          "name": "stderr"
        },
        {
          "output_type": "display_data",
          "data": {
            "text/html": [
              "<p style=\"color: red;\">\n",
              "The default version of TensorFlow in Colab will soon switch to TensorFlow 2.x.<br>\n",
              "We recommend you <a href=\"https://www.tensorflow.org/guide/migrate\" target=\"_blank\">upgrade</a> now \n",
              "or ensure your notebook will continue to use TensorFlow 1.x via the <code>%tensorflow_version 1.x</code> magic:\n",
              "<a href=\"https://colab.research.google.com/notebooks/tensorflow_version.ipynb\" target=\"_blank\">more info</a>.</p>\n"
            ],
            "text/plain": [
              "<IPython.core.display.HTML object>"
            ]
          },
          "metadata": {
            "tags": []
          }
        }
      ]
    },
    {
      "cell_type": "markdown",
      "metadata": {
        "id": "9avi6blXMuuf",
        "colab_type": "text"
      },
      "source": [
        "***Run the code in google colab.***"
      ]
    },
    {
      "cell_type": "markdown",
      "metadata": {
        "id": "pghSJcM3Ho8a",
        "colab_type": "text"
      },
      "source": [
        "# ***Neural Machine Translation from Spanish to english using encoder decoder sequence model.***\n"
      ]
    },
    {
      "cell_type": "markdown",
      "metadata": {
        "id": "cMAzzF_wJ1TC",
        "colab_type": "text"
      },
      "source": [
        "# ***Dataset is restricted to 35000 records apporx. for this execution (total dataset is of 174481 records).***\n",
        "\n",
        "I have generated the output in the csv file 'predicted.csv' which will be visible in the left pane on refreshing."
      ]
    },
    {
      "cell_type": "code",
      "metadata": {
        "id": "qI7AZzSBOxn_",
        "colab_type": "code",
        "outputId": "36e42ad6-b6d0-497f-9b53-2677d0382545",
        "colab": {
          "base_uri": "https://localhost:8080/",
          "height": 202
        }
      },
      "source": [
        "# convert data into dataframe  \n",
        "data = pd.read_csv('spa.txt', delimiter='\\t', names=['English', 'Spanish'], usecols=[0,1])\n",
        "dataCopy=data\n",
        "data.head()"
      ],
      "execution_count": 2,
      "outputs": [
        {
          "output_type": "execute_result",
          "data": {
            "text/html": [
              "<div>\n",
              "<style scoped>\n",
              "    .dataframe tbody tr th:only-of-type {\n",
              "        vertical-align: middle;\n",
              "    }\n",
              "\n",
              "    .dataframe tbody tr th {\n",
              "        vertical-align: top;\n",
              "    }\n",
              "\n",
              "    .dataframe thead th {\n",
              "        text-align: right;\n",
              "    }\n",
              "</style>\n",
              "<table border=\"1\" class=\"dataframe\">\n",
              "  <thead>\n",
              "    <tr style=\"text-align: right;\">\n",
              "      <th></th>\n",
              "      <th>English</th>\n",
              "      <th>Spanish</th>\n",
              "    </tr>\n",
              "  </thead>\n",
              "  <tbody>\n",
              "    <tr>\n",
              "      <th>0</th>\n",
              "      <td>Go.</td>\n",
              "      <td>Ve.</td>\n",
              "    </tr>\n",
              "    <tr>\n",
              "      <th>1</th>\n",
              "      <td>Go.</td>\n",
              "      <td>Vete.</td>\n",
              "    </tr>\n",
              "    <tr>\n",
              "      <th>2</th>\n",
              "      <td>Go.</td>\n",
              "      <td>Vaya.</td>\n",
              "    </tr>\n",
              "    <tr>\n",
              "      <th>3</th>\n",
              "      <td>Go.</td>\n",
              "      <td>Váyase.</td>\n",
              "    </tr>\n",
              "    <tr>\n",
              "      <th>4</th>\n",
              "      <td>Hi.</td>\n",
              "      <td>Hola.</td>\n",
              "    </tr>\n",
              "  </tbody>\n",
              "</table>\n",
              "</div>"
            ],
            "text/plain": [
              "  English  Spanish\n",
              "0     Go.      Ve.\n",
              "1     Go.    Vete.\n",
              "2     Go.    Vaya.\n",
              "3     Go.  Váyase.\n",
              "4     Hi.    Hola."
            ]
          },
          "metadata": {
            "tags": []
          },
          "execution_count": 2
        }
      ]
    },
    {
      "cell_type": "code",
      "metadata": {
        "id": "Ze1lSC5gPcGk",
        "colab_type": "code",
        "colab": {}
      },
      "source": [
        "data.shape\n",
        "# restrict dataset to approx. 35000 records\n",
        "dataLimit = np.random.rand(len(dataCopy)) <= 0.49\n",
        "limitDataset=dataCopy[dataLimit]"
      ],
      "execution_count": 0,
      "outputs": []
    },
    {
      "cell_type": "code",
      "metadata": {
        "id": "SDRFyiuZPwqd",
        "colab_type": "code",
        "outputId": "a34456a4-d9a0-4976-87ed-67f56947d7a2",
        "colab": {
          "base_uri": "https://localhost:8080/",
          "height": 35
        }
      },
      "source": [
        "limitDataset.shape"
      ],
      "execution_count": 4,
      "outputs": [
        {
          "output_type": "execute_result",
          "data": {
            "text/plain": [
              "(60608, 2)"
            ]
          },
          "metadata": {
            "tags": []
          },
          "execution_count": 4
        }
      ]
    },
    {
      "cell_type": "code",
      "metadata": {
        "id": "n1j23SeBVWs3",
        "colab_type": "code",
        "outputId": "461cda50-fcc4-40b2-c58f-b4e0781ee808",
        "colab": {
          "base_uri": "https://localhost:8080/",
          "height": 35
        }
      },
      "source": [
        "#keras based tokenizer is used to map words to integer\n",
        "tokenizerEn=Tokenizer()\n",
        "tokenizerFr=Tokenizer()\n",
        "\n",
        "tokenizerEn.fit_on_texts(limitDataset['English'].to_numpy())\n",
        "vocabSizeEn = len(tokenizerEn.word_index) + 1\n",
        "\n",
        "tokenizerFr.fit_on_texts(limitDataset['Spanish'].to_numpy())\n",
        "vocabSizeFr = len(tokenizerFr.word_index) + 1\n",
        "\n",
        "print('Vocabulary Size: English ', vocabSizeEn, \"Spanish \", vocabSizeFr)"
      ],
      "execution_count": 5,
      "outputs": [
        {
          "output_type": "stream",
          "text": [
            "Vocabulary Size: English  10641 Spanish  20030\n"
          ],
          "name": "stdout"
        }
      ]
    },
    {
      "cell_type": "code",
      "metadata": {
        "id": "hTWGjh3bQZwe",
        "colab_type": "code",
        "outputId": "518a7630-5ce3-4910-8a09-20ccf057d9bc",
        "colab": {
          "base_uri": "https://localhost:8080/",
          "height": 35
        }
      },
      "source": [
        "#Data preprocessing to clean the data and get the maximum sized length of sentences from both languages\n",
        "maxLenEn = 0\n",
        "maxLenFr = 0\n",
        "for index, row in limitDataset.iterrows():\n",
        "    row['English']=row['English'].translate(str.maketrans('', '', st.punctuation)).lower()\n",
        "    if len(row['English'].split())>maxLenEn:\n",
        "        maxLenEn=len(row['English'].split())\n",
        "    row['Spanish']=row['Spanish'].translate(str.maketrans('', '', st.punctuation)).lower()\n",
        "    if len(row['Spanish'].split())>maxLenFr:\n",
        "        maxLenFr=len(row['Spanish'].split())  \n",
        "print(\"Maximum sized length : English \",maxLenEn,\"Spanish \", maxLenFr )"
      ],
      "execution_count": 6,
      "outputs": [
        {
          "output_type": "stream",
          "text": [
            "Maximum sized length : English  47 Spanish  49\n"
          ],
          "name": "stdout"
        }
      ]
    },
    {
      "cell_type": "code",
      "metadata": {
        "id": "0aZ9oy4BPYEh",
        "colab_type": "code",
        "outputId": "fb67d0e3-3395-488b-8c11-edecd26f6ea7",
        "colab": {
          "base_uri": "https://localhost:8080/",
          "height": 35
        }
      },
      "source": [
        "# we will split the data to keep 80:20 ratio for training and test data\n",
        "splitData = np.random.rand(len(limitDataset)) <= 0.8\n",
        "trainData = limitDataset[splitData]\n",
        "testData = limitDataset[~splitData]\n",
        "#check the data count in training set and test set\n",
        "print(\"Training Data: \",trainData.shape,\" Test data: \",testData.shape)\n",
        "# Data in to numpy array conversion\n",
        "trainDataNP=trainData.to_numpy()\n",
        "testDataNP=testData.to_numpy()"
      ],
      "execution_count": 7,
      "outputs": [
        {
          "output_type": "stream",
          "text": [
            "Training Data:  (48443, 2)  Test data:  (12165, 2)\n"
          ],
          "name": "stdout"
        }
      ]
    },
    {
      "cell_type": "markdown",
      "metadata": {
        "id": "NHEh1q55KMLh",
        "colab_type": "text"
      },
      "source": [
        "**Data encoding is done i.e. converting text to ids and add padding to make all sequences of same length. **"
      ]
    },
    {
      "cell_type": "code",
      "metadata": {
        "id": "wDokS3TrX3vg",
        "colab_type": "code",
        "colab": {}
      },
      "source": [
        "def dataEncoder(allData, lanTokenizer, length):\n",
        "    encodedData = lanTokenizer.texts_to_sequences(allData)\n",
        "    paddedData = pad_sequences(encodedData, maxlen=length, padding='post')\n",
        "    return paddedData\n",
        "\n",
        "trainFr = dataEncoder(trainDataNP[:, 1],tokenizerFr,maxLenFr)\n",
        "trainEn = dataEncoder(trainDataNP[:, 0],tokenizerEn,maxLenEn)\n",
        "testFr = dataEncoder(testDataNP[:, 1],tokenizerFr,maxLenFr)\n",
        "testEn = dataEncoder(testDataNP[:, 0],tokenizerEn,maxLenEn)"
      ],
      "execution_count": 0,
      "outputs": []
    },
    {
      "cell_type": "code",
      "metadata": {
        "id": "rEBL70vrw7yR",
        "colab_type": "code",
        "outputId": "516d4149-e7df-4322-8e9c-5f4f780e7a92",
        "colab": {
          "base_uri": "https://localhost:8080/",
          "height": 35
        }
      },
      "source": [
        "print(trainFr.shape, testFr.shape)"
      ],
      "execution_count": 9,
      "outputs": [
        {
          "output_type": "stream",
          "text": [
            "(48443, 49) (12165, 49)\n"
          ],
          "name": "stdout"
        }
      ]
    },
    {
      "cell_type": "code",
      "metadata": {
        "id": "Yr1JGCSS2MHp",
        "colab_type": "code",
        "colab": {
          "base_uri": "https://localhost:8080/",
          "height": 263
        },
        "outputId": "aa43cbec-999a-40a6-df0a-ea897affc13a"
      },
      "source": [
        "#Sequence model\n",
        "def sequenceModel(vocabFr, vocabEn, maxFr, maxEn, units):\n",
        "    seqModel = Sequential()\n",
        "    seqModel.add(Embedding(vocabFr, units, input_length=maxFr, mask_zero=True))\n",
        "    seqModel.add(LSTM(units))\n",
        "    seqModel.add(RepeatVector(maxEn))\n",
        "    seqModel.add(LSTM(units, return_sequences=True))\n",
        "    seqModel.add(Dense(vocabEn, activation='softmax'))\n",
        "    return seqModel\n",
        "\n",
        "seqModel = sequenceModel(vocabSizeFr, vocabSizeEn, maxLenFr, maxLenEn, 256)\n",
        "rmsOptimizer = optimizers.RMSprop(lr=0.01)\n",
        "seqModel.compile(optimizer=rmsOptimizer, loss='sparse_categorical_crossentropy')"
      ],
      "execution_count": 10,
      "outputs": [
        {
          "output_type": "stream",
          "text": [
            "WARNING:tensorflow:From /usr/local/lib/python3.6/dist-packages/keras/backend/tensorflow_backend.py:66: The name tf.get_default_graph is deprecated. Please use tf.compat.v1.get_default_graph instead.\n",
            "\n",
            "WARNING:tensorflow:From /usr/local/lib/python3.6/dist-packages/keras/backend/tensorflow_backend.py:541: The name tf.placeholder is deprecated. Please use tf.compat.v1.placeholder instead.\n",
            "\n",
            "WARNING:tensorflow:From /usr/local/lib/python3.6/dist-packages/keras/backend/tensorflow_backend.py:4432: The name tf.random_uniform is deprecated. Please use tf.random.uniform instead.\n",
            "\n",
            "WARNING:tensorflow:From /usr/local/lib/python3.6/dist-packages/keras/backend/tensorflow_backend.py:3239: where (from tensorflow.python.ops.array_ops) is deprecated and will be removed in a future version.\n",
            "Instructions for updating:\n",
            "Use tf.where in 2.0, which has the same broadcast rule as np.where\n",
            "WARNING:tensorflow:From /usr/local/lib/python3.6/dist-packages/keras/optimizers.py:793: The name tf.train.Optimizer is deprecated. Please use tf.compat.v1.train.Optimizer instead.\n",
            "\n",
            "WARNING:tensorflow:From /usr/local/lib/python3.6/dist-packages/keras/backend/tensorflow_backend.py:3622: The name tf.log is deprecated. Please use tf.math.log instead.\n",
            "\n"
          ],
          "name": "stdout"
        }
      ]
    },
    {
      "cell_type": "code",
      "metadata": {
        "id": "Sye8mavR44sm",
        "colab_type": "code",
        "outputId": "4d76dbf5-ab45-4b00-a4ff-8ea153d34b0d",
        "colab": {
          "base_uri": "https://localhost:8080/",
          "height": 852
        }
      },
      "source": [
        " modelPrediction = seqModel.fit(trainFr, trainEn.reshape(trainEn.shape[0], trainEn.shape[1], 1),epochs=15, batch_size=256, validation_split = 0.2, verbose=1)"
      ],
      "execution_count": 11,
      "outputs": [
        {
          "output_type": "stream",
          "text": [
            "WARNING:tensorflow:From /usr/local/lib/python3.6/dist-packages/keras/backend/tensorflow_backend.py:1033: The name tf.assign_add is deprecated. Please use tf.compat.v1.assign_add instead.\n",
            "\n",
            "WARNING:tensorflow:From /usr/local/lib/python3.6/dist-packages/keras/backend/tensorflow_backend.py:1020: The name tf.assign is deprecated. Please use tf.compat.v1.assign instead.\n",
            "\n",
            "WARNING:tensorflow:From /usr/local/lib/python3.6/dist-packages/keras/backend/tensorflow_backend.py:3005: The name tf.Session is deprecated. Please use tf.compat.v1.Session instead.\n",
            "\n",
            "Train on 38754 samples, validate on 9689 samples\n",
            "Epoch 1/15\n",
            "WARNING:tensorflow:From /usr/local/lib/python3.6/dist-packages/keras/backend/tensorflow_backend.py:190: The name tf.get_default_session is deprecated. Please use tf.compat.v1.get_default_session instead.\n",
            "\n",
            "WARNING:tensorflow:From /usr/local/lib/python3.6/dist-packages/keras/backend/tensorflow_backend.py:197: The name tf.ConfigProto is deprecated. Please use tf.compat.v1.ConfigProto instead.\n",
            "\n",
            "WARNING:tensorflow:From /usr/local/lib/python3.6/dist-packages/keras/backend/tensorflow_backend.py:207: The name tf.global_variables is deprecated. Please use tf.compat.v1.global_variables instead.\n",
            "\n",
            "WARNING:tensorflow:From /usr/local/lib/python3.6/dist-packages/keras/backend/tensorflow_backend.py:216: The name tf.is_variable_initialized is deprecated. Please use tf.compat.v1.is_variable_initialized instead.\n",
            "\n",
            "WARNING:tensorflow:From /usr/local/lib/python3.6/dist-packages/keras/backend/tensorflow_backend.py:223: The name tf.variables_initializer is deprecated. Please use tf.compat.v1.variables_initializer instead.\n",
            "\n",
            "38754/38754 [==============================] - 291s 8ms/step - loss: 0.9671 - val_loss: 1.5433\n",
            "Epoch 2/15\n",
            "38754/38754 [==============================] - 294s 8ms/step - loss: 0.6118 - val_loss: 1.4147\n",
            "Epoch 3/15\n",
            "38754/38754 [==============================] - 291s 8ms/step - loss: 0.5015 - val_loss: 1.2861\n",
            "Epoch 4/15\n",
            "38754/38754 [==============================] - 287s 7ms/step - loss: 0.4027 - val_loss: 1.2748\n",
            "Epoch 5/15\n",
            "38754/38754 [==============================] - 289s 7ms/step - loss: 0.3370 - val_loss: 1.2628\n",
            "Epoch 6/15\n",
            "38754/38754 [==============================] - 291s 8ms/step - loss: 0.2871 - val_loss: 1.3667\n",
            "Epoch 7/15\n",
            "38754/38754 [==============================] - 288s 7ms/step - loss: 0.2486 - val_loss: 1.3645\n",
            "Epoch 8/15\n",
            "38754/38754 [==============================] - 283s 7ms/step - loss: 0.2187 - val_loss: 1.4252\n",
            "Epoch 9/15\n",
            "38754/38754 [==============================] - 290s 7ms/step - loss: 0.1939 - val_loss: 1.4884\n",
            "Epoch 10/15\n",
            "38754/38754 [==============================] - 290s 7ms/step - loss: 0.1760 - val_loss: 1.4938\n",
            "Epoch 11/15\n",
            "38754/38754 [==============================] - 286s 7ms/step - loss: 0.1613 - val_loss: 1.5725\n",
            "Epoch 12/15\n",
            "38754/38754 [==============================] - 287s 7ms/step - loss: 0.1490 - val_loss: 1.4848\n",
            "Epoch 13/15\n",
            "38754/38754 [==============================] - 279s 7ms/step - loss: 0.1389 - val_loss: 1.5746\n",
            "Epoch 14/15\n",
            "38754/38754 [==============================] - 276s 7ms/step - loss: 0.1318 - val_loss: 1.5937\n",
            "Epoch 15/15\n",
            "38754/38754 [==============================] - 285s 7ms/step - loss: 0.1249 - val_loss: 1.5998\n"
          ],
          "name": "stdout"
        }
      ]
    },
    {
      "cell_type": "code",
      "metadata": {
        "id": "WUE8e54f54if",
        "colab_type": "code",
        "colab": {}
      },
      "source": [
        "#Get predictions for text data \n",
        "testPrediction = seqModel.predict_classes(testFr.reshape((testFr.shape[0],testFr.shape[1])))"
      ],
      "execution_count": 0,
      "outputs": []
    },
    {
      "cell_type": "code",
      "metadata": {
        "id": "64hf0jpJ8IBK",
        "colab_type": "code",
        "colab": {}
      },
      "source": [
        "## data decoder Convert mapped words in to normal words\n",
        "def wordConversion(word_index, tokenizer):\n",
        "    for word, index in tokenizer.word_index.items():\n",
        "        if index == word_index:\n",
        "            return word\n",
        "    return None\n",
        "    \n",
        "def dataDecoder(prediction):\n",
        "    textPredicted=list()\n",
        "    for sentence in prediction:\n",
        "        sentenceConverted = list()\n",
        "        for word_index in range(len(sentence)):\n",
        "            word = wordConversion(sentence[word_index], tokenizerEn)\n",
        "            if word_index > 0:\n",
        "                if (word == wordConversion(sentence[word_index-1], tokenizerEn)) or (word == None):\n",
        "                    sentenceConverted.append('')\n",
        "                else:\n",
        "                    sentenceConverted.append(word)\n",
        "\n",
        "            else:\n",
        "                if(word == None):\n",
        "                    sentenceConverted.append('')\n",
        "                else:\n",
        "                    sentenceConverted.append(word)            \n",
        "\n",
        "        textPredicted.append(' '.join(sentenceConverted))\n",
        "        \n",
        "    return textPredicted"
      ],
      "execution_count": 0,
      "outputs": []
    },
    {
      "cell_type": "code",
      "metadata": {
        "id": "NZhxXezP9vQ-",
        "colab_type": "code",
        "colab": {}
      },
      "source": [
        "#calling data decoder for the predictions\n",
        "predictedText = dataDecoder(testPrediction)\n",
        "predictedDataframe = pd.DataFrame({'Spanish text': testData['Spanish'],' Expected text' : testData['English'], 'Predicted text' : predictedText})"
      ],
      "execution_count": 0,
      "outputs": []
    },
    {
      "cell_type": "markdown",
      "metadata": {
        "id": "GSruLeXrG969",
        "colab_type": "text"
      },
      "source": [
        "# ***Data after conversion from German to english i.e. both the expected and predicted english text***"
      ]
    },
    {
      "cell_type": "code",
      "metadata": {
        "id": "EIPzs9tI-Bke",
        "colab_type": "code",
        "colab": {
          "base_uri": "https://localhost:8080/",
          "height": 355
        },
        "outputId": "399ce2eb-ec4a-49af-83e0-1b7cfd903f85"
      },
      "source": [
        "\n",
        "predictedDataframe.head(10)"
      ],
      "execution_count": 15,
      "outputs": [
        {
          "output_type": "execute_result",
          "data": {
            "text/html": [
              "<div>\n",
              "<style scoped>\n",
              "    .dataframe tbody tr th:only-of-type {\n",
              "        vertical-align: middle;\n",
              "    }\n",
              "\n",
              "    .dataframe tbody tr th {\n",
              "        vertical-align: top;\n",
              "    }\n",
              "\n",
              "    .dataframe thead th {\n",
              "        text-align: right;\n",
              "    }\n",
              "</style>\n",
              "<table border=\"1\" class=\"dataframe\">\n",
              "  <thead>\n",
              "    <tr style=\"text-align: right;\">\n",
              "      <th></th>\n",
              "      <th>Spanish text</th>\n",
              "      <th>Expected text</th>\n",
              "      <th>Predicted text</th>\n",
              "    </tr>\n",
              "  </thead>\n",
              "  <tbody>\n",
              "    <tr>\n",
              "      <th>8</th>\n",
              "      <td>¡corred</td>\n",
              "      <td>run</td>\n",
              "      <td>take yourself out                             ...</td>\n",
              "    </tr>\n",
              "    <tr>\n",
              "      <th>44</th>\n",
              "      <td>sonríe</td>\n",
              "      <td>smile</td>\n",
              "      <td>she answered                                  ...</td>\n",
              "    </tr>\n",
              "    <tr>\n",
              "      <th>46</th>\n",
              "      <td>¡atacad</td>\n",
              "      <td>attack</td>\n",
              "      <td>take it                                       ...</td>\n",
              "    </tr>\n",
              "    <tr>\n",
              "      <th>47</th>\n",
              "      <td>¡ataque</td>\n",
              "      <td>attack</td>\n",
              "      <td>get yourself                                  ...</td>\n",
              "    </tr>\n",
              "    <tr>\n",
              "      <th>49</th>\n",
              "      <td>¡ataca</td>\n",
              "      <td>attack</td>\n",
              "      <td>take yourself                                 ...</td>\n",
              "    </tr>\n",
              "    <tr>\n",
              "      <th>50</th>\n",
              "      <td>levanta</td>\n",
              "      <td>get up</td>\n",
              "      <td>was it up                                     ...</td>\n",
              "    </tr>\n",
              "    <tr>\n",
              "      <th>57</th>\n",
              "      <td>vaya ya</td>\n",
              "      <td>go now</td>\n",
              "      <td>go now anymore                                ...</td>\n",
              "    </tr>\n",
              "    <tr>\n",
              "      <th>62</th>\n",
              "      <td>él corrió</td>\n",
              "      <td>he ran</td>\n",
              "      <td>i had                                         ...</td>\n",
              "    </tr>\n",
              "    <tr>\n",
              "      <th>76</th>\n",
              "      <td>renuncié</td>\n",
              "      <td>i quit</td>\n",
              "      <td>i their her                                   ...</td>\n",
              "    </tr>\n",
              "    <tr>\n",
              "      <th>78</th>\n",
              "      <td>lloré</td>\n",
              "      <td>i wept</td>\n",
              "      <td>i sat                                         ...</td>\n",
              "    </tr>\n",
              "  </tbody>\n",
              "</table>\n",
              "</div>"
            ],
            "text/plain": [
              "   Spanish text  ...                                     Predicted text\n",
              "8       ¡corred  ...  take yourself out                             ...\n",
              "44       sonríe  ...  she answered                                  ...\n",
              "46      ¡atacad  ...  take it                                       ...\n",
              "47      ¡ataque  ...  get yourself                                  ...\n",
              "49       ¡ataca  ...  take yourself                                 ...\n",
              "50      levanta  ...  was it up                                     ...\n",
              "57      vaya ya  ...  go now anymore                                ...\n",
              "62    él corrió  ...  i had                                         ...\n",
              "76     renuncié  ...  i their her                                   ...\n",
              "78        lloré  ...  i sat                                         ...\n",
              "\n",
              "[10 rows x 3 columns]"
            ]
          },
          "metadata": {
            "tags": []
          },
          "execution_count": 15
        }
      ]
    },
    {
      "cell_type": "markdown",
      "metadata": {
        "id": "vxI95pCaGo_g",
        "colab_type": "text"
      },
      "source": [
        "# ***Using corpus bleu function to calculate the Bleu score for data***"
      ]
    },
    {
      "cell_type": "code",
      "metadata": {
        "id": "LTJqNco-_MWj",
        "colab_type": "code",
        "colab": {
          "base_uri": "https://localhost:8080/",
          "height": 104
        },
        "outputId": "6fce0e67-9c06-4cbc-cd14-e48d5b7f1542"
      },
      "source": [
        "print('BLEU score using corpus bleu function:',corpus_bleu(testDataNP[:,0], predictedText))"
      ],
      "execution_count": 16,
      "outputs": [
        {
          "output_type": "stream",
          "text": [
            "BLEU score using corpus bleu function: 0.6294536969376149\n"
          ],
          "name": "stdout"
        },
        {
          "output_type": "stream",
          "text": [
            "/usr/local/lib/python3.6/dist-packages/nltk/translate/bleu_score.py:490: UserWarning: \n",
            "Corpus/Sentence contains 0 counts of 2-gram overlaps.\n",
            "BLEU scores might be undesirable; use SmoothingFunction().\n",
            "  warnings.warn(_msg)\n"
          ],
          "name": "stderr"
        }
      ]
    },
    {
      "cell_type": "markdown",
      "metadata": {
        "id": "N8vuCXQhIM46",
        "colab_type": "text"
      },
      "source": [
        "## ***Generating the csv file for predicted output***\n",
        "\n"
      ]
    },
    {
      "cell_type": "code",
      "metadata": {
        "id": "QdSEKp-fIF5c",
        "colab_type": "code",
        "colab": {
          "base_uri": "https://localhost:8080/",
          "height": 265
        },
        "outputId": "1665ab79-a9b0-47a3-cf98-b8fd320fac92"
      },
      "source": [
        "plt.plot(modelPrediction.history['loss'])\n",
        "plt.plot(modelPrediction.history['val_loss'])\n",
        "plt.legend(['training','validation'])\n",
        "plt.show()"
      ],
      "execution_count": 17,
      "outputs": [
        {
          "output_type": "display_data",
          "data": {
            "image/png": "[encoded data removed]",
            "text/plain": [
              "<Figure size 432x288 with 1 Axes>"
            ]
          },
          "metadata": {
            "tags": []
          }
        }
      ]
    }
  ]
}