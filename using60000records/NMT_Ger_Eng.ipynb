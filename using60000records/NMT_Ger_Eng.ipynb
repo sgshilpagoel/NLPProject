{
 "cells": [
  {
   "cell_type": "code",
   "execution_count": 0,
   "metadata": {
    "colab": {},
    "colab_type": "code",
    "id": "djhFyrSi9BkM"
   },
   "outputs": [],
   "source": [
    "import pandas as pd\n",
    "import numpy as np\n",
    "import sklearn\n",
    "import nltk\n",
    "import keras\n",
    "import string as st\n",
    "from keras.preprocessing.text import Tokenizer\n",
    "from keras.preprocessing.sequence import pad_sequences\n",
    "from google.colab import files\n",
    "from keras.models import Sequential\n",
    "from keras.layers import Embedding\n",
    "from keras.layers import RepeatVector\n",
    "from keras.layers import LSTM\n",
    "from keras.layers import Dense\n",
    "from keras import optimizers\n",
    "from nltk.translate.bleu_score import corpus_bleu\n",
    "import matplotlib.pyplot as plt\n"
   ]
  },
  {
   "cell_type": "markdown",
   "metadata": {
    "colab_type": "text",
    "id": "9avi6blXMuuf"
   },
   "source": [
    "***Run the code in google colab.***"
   ]
  },
  {
   "cell_type": "markdown",
   "metadata": {
    "colab_type": "text",
    "id": "pghSJcM3Ho8a"
   },
   "source": [
    "# ***Neural Machine Translation from German to english using encoder decoder sequence model.***\n"
   ]
  },
  {
   "cell_type": "markdown",
   "metadata": {
    "colab_type": "text",
    "id": "cMAzzF_wJ1TC"
   },
   "source": [
    "# ***Dataset is restricted to 60000 records apporx. for this execution (total dataset is of 174481 records).***\n",
    "\n",
    "I have generated the output in the csv file 'predicted.csv' which will be visible in the left pane on refreshing."
   ]
  },
  {
   "cell_type": "code",
   "execution_count": 5,
   "metadata": {
    "colab": {
     "base_uri": "https://localhost:8080/",
     "height": 202
    },
    "colab_type": "code",
    "id": "qI7AZzSBOxn_",
    "outputId": "86595bc0-ea36-4fc7-ac45-a636b6c711a9"
   },
   "outputs": [
    {
     "data": {
      "text/html": [
       "<div>\n",
       "<style scoped>\n",
       "    .dataframe tbody tr th:only-of-type {\n",
       "        vertical-align: middle;\n",
       "    }\n",
       "\n",
       "    .dataframe tbody tr th {\n",
       "        vertical-align: top;\n",
       "    }\n",
       "\n",
       "    .dataframe thead th {\n",
       "        text-align: right;\n",
       "    }\n",
       "</style>\n",
       "<table border=\"1\" class=\"dataframe\">\n",
       "  <thead>\n",
       "    <tr style=\"text-align: right;\">\n",
       "      <th></th>\n",
       "      <th>English</th>\n",
       "      <th>German</th>\n",
       "    </tr>\n",
       "  </thead>\n",
       "  <tbody>\n",
       "    <tr>\n",
       "      <th>0</th>\n",
       "      <td>Hi.</td>\n",
       "      <td>Hallo!</td>\n",
       "    </tr>\n",
       "    <tr>\n",
       "      <th>1</th>\n",
       "      <td>Hi.</td>\n",
       "      <td>Grüß Gott!</td>\n",
       "    </tr>\n",
       "    <tr>\n",
       "      <th>2</th>\n",
       "      <td>Run!</td>\n",
       "      <td>Lauf!</td>\n",
       "    </tr>\n",
       "    <tr>\n",
       "      <th>3</th>\n",
       "      <td>Wow!</td>\n",
       "      <td>Potzdonner!</td>\n",
       "    </tr>\n",
       "    <tr>\n",
       "      <th>4</th>\n",
       "      <td>Wow!</td>\n",
       "      <td>Donnerwetter!</td>\n",
       "    </tr>\n",
       "  </tbody>\n",
       "</table>\n",
       "</div>"
      ],
      "text/plain": [
       "  English         German\n",
       "0     Hi.         Hallo!\n",
       "1     Hi.     Grüß Gott!\n",
       "2    Run!          Lauf!\n",
       "3    Wow!    Potzdonner!\n",
       "4    Wow!  Donnerwetter!"
      ]
     },
     "execution_count": 5,
     "metadata": {
      "tags": []
     },
     "output_type": "execute_result"
    }
   ],
   "source": [
    "# convert data into dataframe  \n",
    "data = pd.read_csv('deu.txt', delimiter='\\t', names=['English', 'German'], usecols=[0,1])\n",
    "dataCopy=data\n",
    "data.head()"
   ]
  },
  {
   "cell_type": "code",
   "execution_count": 0,
   "metadata": {
    "colab": {},
    "colab_type": "code",
    "id": "Ze1lSC5gPcGk"
   },
   "outputs": [],
   "source": [
    "data.shape\n",
    "# restrict dataset to 35000 records\n",
    "dataLimit = np.random.rand(len(dataCopy)) <= 0.29\n",
    "limitDataset=dataCopy[dataLimit]"
   ]
  },
  {
   "cell_type": "code",
   "execution_count": 7,
   "metadata": {
    "colab": {
     "base_uri": "https://localhost:8080/",
     "height": 35
    },
    "colab_type": "code",
    "id": "SDRFyiuZPwqd",
    "outputId": "eff0f460-eb3d-454d-b63d-0b92b2c2adf9"
   },
   "outputs": [
    {
     "data": {
      "text/plain": [
       "(59424, 2)"
      ]
     },
     "execution_count": 7,
     "metadata": {
      "tags": []
     },
     "output_type": "execute_result"
    }
   ],
   "source": [
    "limitDataset.shape"
   ]
  },
  {
   "cell_type": "code",
   "execution_count": 8,
   "metadata": {
    "colab": {
     "base_uri": "https://localhost:8080/",
     "height": 35
    },
    "colab_type": "code",
    "id": "n1j23SeBVWs3",
    "outputId": "7b01a504-5e8b-48f3-992a-ad6689aea10c"
   },
   "outputs": [
    {
     "name": "stdout",
     "output_type": "stream",
     "text": [
      "Vocabulary Size: English  10630 German  19360\n"
     ]
    }
   ],
   "source": [
    "#keras based tokenizer is used to map words to integer\n",
    "tokenizerEn=Tokenizer()\n",
    "tokenizerFr=Tokenizer()\n",
    "\n",
    "tokenizerEn.fit_on_texts(limitDataset['English'].to_numpy())\n",
    "vocabSizeEn = len(tokenizerEn.word_index) + 1\n",
    "\n",
    "tokenizerFr.fit_on_texts(limitDataset['German'].to_numpy())\n",
    "vocabSizeFr = len(tokenizerFr.word_index) + 1\n",
    "\n",
    "print('Vocabulary Size: English ', vocabSizeEn, \"German \", vocabSizeFr)"
   ]
  },
  {
   "cell_type": "code",
   "execution_count": 9,
   "metadata": {
    "colab": {
     "base_uri": "https://localhost:8080/",
     "height": 35
    },
    "colab_type": "code",
    "id": "hTWGjh3bQZwe",
    "outputId": "107276b9-cc5e-4534-f50f-b9403dd1b4cd"
   },
   "outputs": [
    {
     "name": "stdout",
     "output_type": "stream",
     "text": [
      "Maximum sized length : English  47 German  54\n"
     ]
    }
   ],
   "source": [
    "#Data preprocessing to clean the data and get the maximum sized length of sentences from both languages\n",
    "maxLenEn = 0\n",
    "maxLenFr = 0\n",
    "for index, row in limitDataset.iterrows():\n",
    "    row['English']=row['English'].translate(str.maketrans('', '', st.punctuation)).lower()\n",
    "    if len(row['English'].split())>maxLenEn:\n",
    "        maxLenEn=len(row['English'].split())\n",
    "    row['German']=row['German'].translate(str.maketrans('', '', st.punctuation)).lower()\n",
    "    if len(row['German'].split())>maxLenFr:\n",
    "        maxLenFr=len(row['German'].split())  \n",
    "print(\"Maximum sized length : English \",maxLenEn,\"German \", maxLenFr )"
   ]
  },
  {
   "cell_type": "code",
   "execution_count": 10,
   "metadata": {
    "colab": {
     "base_uri": "https://localhost:8080/",
     "height": 35
    },
    "colab_type": "code",
    "id": "0aZ9oy4BPYEh",
    "outputId": "503fc72c-1e9d-401d-f0b1-74802301dc16"
   },
   "outputs": [
    {
     "name": "stdout",
     "output_type": "stream",
     "text": [
      "Training Data:  (41509, 2)  Test data:  (17915, 2)\n"
     ]
    }
   ],
   "source": [
    "# we will split the data to keep 70:30 ratio for training and test data\n",
    "splitData = np.random.rand(len(limitDataset)) <= 0.7\n",
    "trainData = limitDataset[splitData]\n",
    "testData = limitDataset[~splitData]\n",
    "#check the data count in training set and test set\n",
    "print(\"Training Data: \",trainData.shape,\" Test data: \",testData.shape)\n",
    "# Data in to numpy array conversion\n",
    "trainDataNP=trainData.to_numpy()\n",
    "testDataNP=testData.to_numpy()"
   ]
  },
  {
   "cell_type": "markdown",
   "metadata": {
    "colab_type": "text",
    "id": "NHEh1q55KMLh"
   },
   "source": [
    "**Data encoding is done i.e. converting text to ids and add padding to make all sequences of same length. **"
   ]
  },
  {
   "cell_type": "code",
   "execution_count": 0,
   "metadata": {
    "colab": {},
    "colab_type": "code",
    "id": "wDokS3TrX3vg"
   },
   "outputs": [],
   "source": [
    "def dataEncoder(allData, lanTokenizer, length):\n",
    "    encodedData = lanTokenizer.texts_to_sequences(allData)\n",
    "    paddedData = pad_sequences(encodedData, maxlen=length, padding='post')\n",
    "    return paddedData\n",
    "\n",
    "trainFr = dataEncoder(trainDataNP[:, 1],tokenizerFr,maxLenFr)\n",
    "trainEn = dataEncoder(trainDataNP[:, 0],tokenizerEn,maxLenEn)\n",
    "testFr = dataEncoder(testDataNP[:, 1],tokenizerFr,maxLenFr)\n",
    "testEn = dataEncoder(testDataNP[:, 0],tokenizerEn,maxLenEn)"
   ]
  },
  {
   "cell_type": "code",
   "execution_count": 12,
   "metadata": {
    "colab": {
     "base_uri": "https://localhost:8080/",
     "height": 35
    },
    "colab_type": "code",
    "id": "rEBL70vrw7yR",
    "outputId": "031f3e26-9d28-42b8-bb4b-ff756ac8c785"
   },
   "outputs": [
    {
     "name": "stdout",
     "output_type": "stream",
     "text": [
      "(41509, 54) (17915, 54)\n"
     ]
    }
   ],
   "source": [
    "print(trainFr.shape, testFr.shape)"
   ]
  },
  {
   "cell_type": "code",
   "execution_count": 13,
   "metadata": {
    "colab": {
     "base_uri": "https://localhost:8080/",
     "height": 263
    },
    "colab_type": "code",
    "id": "Yr1JGCSS2MHp",
    "outputId": "9690a4b2-59fc-4ca4-9f6f-cc36ada97385"
   },
   "outputs": [
    {
     "name": "stdout",
     "output_type": "stream",
     "text": [
      "WARNING:tensorflow:From /usr/local/lib/python3.6/dist-packages/keras/backend/tensorflow_backend.py:66: The name tf.get_default_graph is deprecated. Please use tf.compat.v1.get_default_graph instead.\n",
      "\n",
      "WARNING:tensorflow:From /usr/local/lib/python3.6/dist-packages/keras/backend/tensorflow_backend.py:541: The name tf.placeholder is deprecated. Please use tf.compat.v1.placeholder instead.\n",
      "\n",
      "WARNING:tensorflow:From /usr/local/lib/python3.6/dist-packages/keras/backend/tensorflow_backend.py:4432: The name tf.random_uniform is deprecated. Please use tf.random.uniform instead.\n",
      "\n",
      "WARNING:tensorflow:From /usr/local/lib/python3.6/dist-packages/keras/backend/tensorflow_backend.py:3239: where (from tensorflow.python.ops.array_ops) is deprecated and will be removed in a future version.\n",
      "Instructions for updating:\n",
      "Use tf.where in 2.0, which has the same broadcast rule as np.where\n",
      "WARNING:tensorflow:From /usr/local/lib/python3.6/dist-packages/keras/optimizers.py:793: The name tf.train.Optimizer is deprecated. Please use tf.compat.v1.train.Optimizer instead.\n",
      "\n",
      "WARNING:tensorflow:From /usr/local/lib/python3.6/dist-packages/keras/backend/tensorflow_backend.py:3622: The name tf.log is deprecated. Please use tf.math.log instead.\n",
      "\n"
     ]
    }
   ],
   "source": [
    "#Sequence model\n",
    "def sequenceModel(vocabFr, vocabEn, maxFr, maxEn, units):\n",
    "    seqModel = Sequential()\n",
    "    seqModel.add(Embedding(vocabFr, units, input_length=maxFr, mask_zero=True))\n",
    "    seqModel.add(LSTM(units))\n",
    "    seqModel.add(RepeatVector(maxEn))\n",
    "    seqModel.add(LSTM(units, return_sequences=True))\n",
    "    seqModel.add(Dense(vocabEn, activation='softmax'))\n",
    "    return seqModel\n",
    "\n",
    "seqModel = sequenceModel(vocabSizeFr, vocabSizeEn, maxLenFr, maxLenEn, 256)\n",
    "rmsOptimizer = optimizers.RMSprop(lr=0.01)\n",
    "seqModel.compile(optimizer=rmsOptimizer, loss='sparse_categorical_crossentropy')"
   ]
  },
  {
   "cell_type": "code",
   "execution_count": 14,
   "metadata": {
    "colab": {
     "base_uri": "https://localhost:8080/",
     "height": 852
    },
    "colab_type": "code",
    "id": "Sye8mavR44sm",
    "outputId": "e1dac2b8-881f-46f4-c534-6e80df084e20"
   },
   "outputs": [
    {
     "name": "stdout",
     "output_type": "stream",
     "text": [
      "WARNING:tensorflow:From /usr/local/lib/python3.6/dist-packages/keras/backend/tensorflow_backend.py:1033: The name tf.assign_add is deprecated. Please use tf.compat.v1.assign_add instead.\n",
      "\n",
      "WARNING:tensorflow:From /usr/local/lib/python3.6/dist-packages/keras/backend/tensorflow_backend.py:1020: The name tf.assign is deprecated. Please use tf.compat.v1.assign instead.\n",
      "\n",
      "WARNING:tensorflow:From /usr/local/lib/python3.6/dist-packages/keras/backend/tensorflow_backend.py:3005: The name tf.Session is deprecated. Please use tf.compat.v1.Session instead.\n",
      "\n",
      "Train on 33207 samples, validate on 8302 samples\n",
      "Epoch 1/15\n",
      "WARNING:tensorflow:From /usr/local/lib/python3.6/dist-packages/keras/backend/tensorflow_backend.py:190: The name tf.get_default_session is deprecated. Please use tf.compat.v1.get_default_session instead.\n",
      "\n",
      "WARNING:tensorflow:From /usr/local/lib/python3.6/dist-packages/keras/backend/tensorflow_backend.py:197: The name tf.ConfigProto is deprecated. Please use tf.compat.v1.ConfigProto instead.\n",
      "\n",
      "WARNING:tensorflow:From /usr/local/lib/python3.6/dist-packages/keras/backend/tensorflow_backend.py:207: The name tf.global_variables is deprecated. Please use tf.compat.v1.global_variables instead.\n",
      "\n",
      "WARNING:tensorflow:From /usr/local/lib/python3.6/dist-packages/keras/backend/tensorflow_backend.py:216: The name tf.is_variable_initialized is deprecated. Please use tf.compat.v1.is_variable_initialized instead.\n",
      "\n",
      "WARNING:tensorflow:From /usr/local/lib/python3.6/dist-packages/keras/backend/tensorflow_backend.py:223: The name tf.variables_initializer is deprecated. Please use tf.compat.v1.variables_initializer instead.\n",
      "\n",
      "33207/33207 [==============================] - 286s 9ms/step - loss: 0.9871 - val_loss: 1.6052\n",
      "Epoch 2/15\n",
      "33207/33207 [==============================] - 278s 8ms/step - loss: 0.6121 - val_loss: 1.5474\n",
      "Epoch 3/15\n",
      "33207/33207 [==============================] - 280s 8ms/step - loss: 0.5162 - val_loss: 1.3303\n",
      "Epoch 4/15\n",
      "33207/33207 [==============================] - 280s 8ms/step - loss: 0.4346 - val_loss: 1.4199\n",
      "Epoch 5/15\n",
      "33207/33207 [==============================] - 279s 8ms/step - loss: 0.3675 - val_loss: 1.4233\n",
      "Epoch 6/15\n",
      "33207/33207 [==============================] - 279s 8ms/step - loss: 0.3304 - val_loss: 1.4409\n",
      "Epoch 7/15\n",
      "33207/33207 [==============================] - 279s 8ms/step - loss: 0.2908 - val_loss: 1.5234\n",
      "Epoch 8/15\n",
      "33207/33207 [==============================] - 281s 8ms/step - loss: 0.2592 - val_loss: 1.5192\n",
      "Epoch 9/15\n",
      "33207/33207 [==============================] - 276s 8ms/step - loss: 0.2328 - val_loss: 1.4953\n",
      "Epoch 10/15\n",
      "33207/33207 [==============================] - 279s 8ms/step - loss: 0.2086 - val_loss: 1.4888\n",
      "Epoch 11/15\n",
      "33207/33207 [==============================] - 275s 8ms/step - loss: 0.1911 - val_loss: 1.5259\n",
      "Epoch 12/15\n",
      "33207/33207 [==============================] - 277s 8ms/step - loss: 0.1752 - val_loss: 1.5727\n",
      "Epoch 13/15\n",
      "33207/33207 [==============================] - 277s 8ms/step - loss: 0.1628 - val_loss: 1.6441\n",
      "Epoch 14/15\n",
      "33207/33207 [==============================] - 278s 8ms/step - loss: 0.1523 - val_loss: 1.6603\n",
      "Epoch 15/15\n",
      "33207/33207 [==============================] - 276s 8ms/step - loss: 0.1449 - val_loss: 1.6412\n"
     ]
    }
   ],
   "source": [
    "modelPrediction = seqModel.fit(trainFr, trainEn.reshape(trainEn.shape[0], trainEn.shape[1], 1),epochs=15, batch_size=256, validation_split = 0.2, verbose=1)"
   ]
  },
  {
   "cell_type": "code",
   "execution_count": 0,
   "metadata": {
    "colab": {},
    "colab_type": "code",
    "id": "WUE8e54f54if"
   },
   "outputs": [],
   "source": [
    "#Get predictions for text data \n",
    "testPrediction = seqModel.predict_classes(testFr.reshape((testFr.shape[0],testFr.shape[1])))"
   ]
  },
  {
   "cell_type": "code",
   "execution_count": 0,
   "metadata": {
    "colab": {},
    "colab_type": "code",
    "id": "64hf0jpJ8IBK"
   },
   "outputs": [],
   "source": [
    "## data decoder Convert mapped words in to normal words\n",
    "def wordConversion(word_index, tokenizer):\n",
    "    for word, index in tokenizer.word_index.items():\n",
    "        if index == word_index:\n",
    "            return word\n",
    "    return None\n",
    "    \n",
    "def dataDecoder(prediction):\n",
    "    textPredicted=list()\n",
    "    for sentence in prediction:\n",
    "        sentenceConverted = list()\n",
    "        for word_index in range(len(sentence)):\n",
    "            word = wordConversion(sentence[word_index], tokenizerEn)\n",
    "            if word_index > 0:\n",
    "                if (word == wordConversion(sentence[word_index-1], tokenizerEn)) or (word == None):\n",
    "                    sentenceConverted.append('')\n",
    "                else:\n",
    "                    sentenceConverted.append(word)\n",
    "\n",
    "            else:\n",
    "                if(word == None):\n",
    "                    sentenceConverted.append('')\n",
    "                else:\n",
    "                    sentenceConverted.append(word)            \n",
    "\n",
    "        textPredicted.append(' '.join(sentenceConverted))\n",
    "        \n",
    "    return textPredicted"
   ]
  },
  {
   "cell_type": "code",
   "execution_count": 0,
   "metadata": {
    "colab": {},
    "colab_type": "code",
    "id": "NZhxXezP9vQ-"
   },
   "outputs": [],
   "source": [
    "#calling data decoder for the predictions\n",
    "predictedText = dataDecoder(testPrediction)\n",
    "predictedDataframe = pd.DataFrame({'German text': testData['German'],' Expected text' : testData['English'], 'Predicted text' : predictedText})"
   ]
  },
  {
   "cell_type": "markdown",
   "metadata": {
    "colab_type": "text",
    "id": "GSruLeXrG969"
   },
   "source": [
    "# ***Data after conversion from German to english i.e. both the expected and predicted english text***"
   ]
  },
  {
   "cell_type": "code",
   "execution_count": 18,
   "metadata": {
    "colab": {
     "base_uri": "https://localhost:8080/",
     "height": 355
    },
    "colab_type": "code",
    "id": "EIPzs9tI-Bke",
    "outputId": "03e19ea4-fcfa-4e1e-d04f-d820374845b9"
   },
   "outputs": [
    {
     "data": {
      "text/html": [
       "<div>\n",
       "<style scoped>\n",
       "    .dataframe tbody tr th:only-of-type {\n",
       "        vertical-align: middle;\n",
       "    }\n",
       "\n",
       "    .dataframe tbody tr th {\n",
       "        vertical-align: top;\n",
       "    }\n",
       "\n",
       "    .dataframe thead th {\n",
       "        text-align: right;\n",
       "    }\n",
       "</style>\n",
       "<table border=\"1\" class=\"dataframe\">\n",
       "  <thead>\n",
       "    <tr style=\"text-align: right;\">\n",
       "      <th></th>\n",
       "      <th>German text</th>\n",
       "      <th>Expected text</th>\n",
       "      <th>Predicted text</th>\n",
       "    </tr>\n",
       "  </thead>\n",
       "  <tbody>\n",
       "    <tr>\n",
       "      <th>17</th>\n",
       "      <td>ich habe gewonnen</td>\n",
       "      <td>i won</td>\n",
       "      <td>i have won                                    ...</td>\n",
       "    </tr>\n",
       "    <tr>\n",
       "      <th>41</th>\n",
       "      <td>ich zahlte</td>\n",
       "      <td>i paid</td>\n",
       "      <td>i study                                       ...</td>\n",
       "    </tr>\n",
       "    <tr>\n",
       "      <th>44</th>\n",
       "      <td>ich bin 19 jahre alt</td>\n",
       "      <td>im 19</td>\n",
       "      <td>young old thirty                              ...</td>\n",
       "    </tr>\n",
       "    <tr>\n",
       "      <th>50</th>\n",
       "      <td>unmöglich</td>\n",
       "      <td>no way</td>\n",
       "      <td>impossible pain                               ...</td>\n",
       "    </tr>\n",
       "    <tr>\n",
       "      <th>76</th>\n",
       "      <td>mach dich fort</td>\n",
       "      <td>beat it</td>\n",
       "      <td>go away                                       ...</td>\n",
       "    </tr>\n",
       "    <tr>\n",
       "      <th>78</th>\n",
       "      <td>mach dich vom acker</td>\n",
       "      <td>beat it</td>\n",
       "      <td>get lost                                      ...</td>\n",
       "    </tr>\n",
       "    <tr>\n",
       "      <th>102</th>\n",
       "      <td>geh weg</td>\n",
       "      <td>go away</td>\n",
       "      <td>go away                                       ...</td>\n",
       "    </tr>\n",
       "    <tr>\n",
       "      <th>118</th>\n",
       "      <td>scher dich fort</td>\n",
       "      <td>go away</td>\n",
       "      <td>go away                                       ...</td>\n",
       "    </tr>\n",
       "    <tr>\n",
       "      <th>121</th>\n",
       "      <td>hau ab</td>\n",
       "      <td>go away</td>\n",
       "      <td>go fly a kite                                 ...</td>\n",
       "    </tr>\n",
       "    <tr>\n",
       "      <th>122</th>\n",
       "      <td>verschwinde</td>\n",
       "      <td>go away</td>\n",
       "      <td>get away                                      ...</td>\n",
       "    </tr>\n",
       "  </tbody>\n",
       "</table>\n",
       "</div>"
      ],
      "text/plain": [
       "              German text  ...                                     Predicted text\n",
       "17      ich habe gewonnen  ...  i have won                                    ...\n",
       "41             ich zahlte  ...  i study                                       ...\n",
       "44   ich bin 19 jahre alt  ...  young old thirty                              ...\n",
       "50              unmöglich  ...  impossible pain                               ...\n",
       "76         mach dich fort  ...  go away                                       ...\n",
       "78    mach dich vom acker  ...  get lost                                      ...\n",
       "102               geh weg  ...  go away                                       ...\n",
       "118       scher dich fort  ...  go away                                       ...\n",
       "121                hau ab  ...  go fly a kite                                 ...\n",
       "122           verschwinde  ...  get away                                      ...\n",
       "\n",
       "[10 rows x 3 columns]"
      ]
     },
     "execution_count": 18,
     "metadata": {
      "tags": []
     },
     "output_type": "execute_result"
    }
   ],
   "source": [
    "\n",
    "predictedDataframe.head(10)"
   ]
  },
  {
   "cell_type": "markdown",
   "metadata": {
    "colab_type": "text",
    "id": "vxI95pCaGo_g"
   },
   "source": [
    "# ***Using corpus bleu function to calculate the Bleu score for data***"
   ]
  },
  {
   "cell_type": "code",
   "execution_count": 19,
   "metadata": {
    "colab": {
     "base_uri": "https://localhost:8080/",
     "height": 104
    },
    "colab_type": "code",
    "id": "LTJqNco-_MWj",
    "outputId": "d9490294-ba7f-4707-fb89-b2e955e6f825"
   },
   "outputs": [
    {
     "name": "stdout",
     "output_type": "stream",
     "text": [
      "BLEU score using corpus bleu function: 0.6274436101316149\n"
     ]
    },
    {
     "name": "stderr",
     "output_type": "stream",
     "text": [
      "/usr/local/lib/python3.6/dist-packages/nltk/translate/bleu_score.py:490: UserWarning: \n",
      "Corpus/Sentence contains 0 counts of 2-gram overlaps.\n",
      "BLEU scores might be undesirable; use SmoothingFunction().\n",
      "  warnings.warn(_msg)\n"
     ]
    }
   ],
   "source": [
    "print('BLEU score using corpus bleu function:',corpus_bleu(testDataNP[:,0], predictedText))"
   ]
  },
  {
   "cell_type": "markdown",
   "metadata": {
    "colab_type": "text",
    "id": "N8vuCXQhIM46"
   },
   "source": [
    "## ***Ploting training and validation losses***\n",
    "\n"
   ]
  },
  {
   "cell_type": "code",
   "execution_count": 22,
   "metadata": {
    "colab": {
     "base_uri": "https://localhost:8080/",
     "height": 265
    },
    "colab_type": "code",
    "id": "QdSEKp-fIF5c",
    "outputId": "8c235d0c-99a7-44e7-ad33-e9bb8610ae8a"
   },
   "outputs": [
    {
     "data": {
      "image/png": "[encoded data removed]",
      "text/plain": [
       "<Figure size 432x288 with 1 Axes>"
      ]
     },
     "metadata": {
      "tags": []
     },
     "output_type": "display_data"
    }
   ],
   "source": [
    "plt.plot(modelPrediction.history['loss'])\n",
    "plt.plot(modelPrediction.history['val_loss'])\n",
    "plt.legend(['training','validation'])\n",
    "plt.show()"
   ]
  }
 ],
 "metadata": {
  "accelerator": "TPU",
  "colab": {
   "collapsed_sections": [],
   "machine_shape": "hm",
   "name": "NMT_Ger_Eng.ipynb",
   "provenance": [],
   "toc_visible": true
  },
  "kernelspec": {
   "display_name": "Python 3",
   "language": "python",
   "name": "python3"
  },
  "language_info": {
   "codemirror_mode": {
    "name": "ipython",
    "version": 3
   },
   "file_extension": ".py",
   "mimetype": "text/x-python",
   "name": "python",
   "nbconvert_exporter": "python",
   "pygments_lexer": "ipython3",
   "version": "3.7.3"
  }
 },
 "nbformat": 4,
 "nbformat_minor": 1
}
