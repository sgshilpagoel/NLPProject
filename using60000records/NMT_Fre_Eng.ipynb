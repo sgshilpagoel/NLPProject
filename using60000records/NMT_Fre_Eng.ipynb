{
 "cells": [
  {
   "cell_type": "code",
   "execution_count": 0,
   "metadata": {
    "colab": {},
    "colab_type": "code",
    "id": "djhFyrSi9BkM"
   },
   "outputs": [],
   "source": [
    "import pandas as pd\n",
    "import numpy as np\n",
    "import sklearn\n",
    "import nltk\n",
    "import keras\n",
    "import string as st\n",
    "from keras.preprocessing.text import Tokenizer\n",
    "from keras.preprocessing.sequence import pad_sequences\n",
    "from google.colab import files\n",
    "from keras.models import Sequential\n",
    "from keras.layers import Embedding\n",
    "from keras.layers import RepeatVector\n",
    "from keras.layers import LSTM\n",
    "from keras.layers import Dense\n",
    "from keras import optimizers\n",
    "from nltk.translate.bleu_score import corpus_bleu\n",
    "import matplotlib.pyplot as plt\n"
   ]
  },
  {
   "cell_type": "markdown",
   "metadata": {
    "colab_type": "text",
    "id": "9avi6blXMuuf"
   },
   "source": [
    "***Run the code in google colab.***"
   ]
  },
  {
   "cell_type": "markdown",
   "metadata": {
    "colab_type": "text",
    "id": "pghSJcM3Ho8a"
   },
   "source": [
    "# ***Neural Machine Translation from french to english using encoder decoder sequence model.***\n"
   ]
  },
  {
   "cell_type": "markdown",
   "metadata": {
    "colab_type": "text",
    "id": "cMAzzF_wJ1TC"
   },
   "source": [
    "# ***For previous submission, dataset was set to 350000 records.For this,it is restricted to 60000 records apporx. for this execution (total dataset is of 174481 records).***\n",
    "\n",
    "I have generated the output in the csv file 'predicted.csv' which will be visible in the left pane on refreshing."
   ]
  },
  {
   "cell_type": "code",
   "execution_count": 2,
   "metadata": {
    "colab": {
     "base_uri": "https://localhost:8080/",
     "height": 202
    },
    "colab_type": "code",
    "id": "qI7AZzSBOxn_",
    "outputId": "80b6970f-e7ec-4497-f1ed-c00f4f5d3f0a"
   },
   "outputs": [
    {
     "data": {
      "text/html": [
       "<div>\n",
       "<style scoped>\n",
       "    .dataframe tbody tr th:only-of-type {\n",
       "        vertical-align: middle;\n",
       "    }\n",
       "\n",
       "    .dataframe tbody tr th {\n",
       "        vertical-align: top;\n",
       "    }\n",
       "\n",
       "    .dataframe thead th {\n",
       "        text-align: right;\n",
       "    }\n",
       "</style>\n",
       "<table border=\"1\" class=\"dataframe\">\n",
       "  <thead>\n",
       "    <tr style=\"text-align: right;\">\n",
       "      <th></th>\n",
       "      <th>English</th>\n",
       "      <th>French</th>\n",
       "    </tr>\n",
       "  </thead>\n",
       "  <tbody>\n",
       "    <tr>\n",
       "      <th>0</th>\n",
       "      <td>Go.</td>\n",
       "      <td>Va !</td>\n",
       "    </tr>\n",
       "    <tr>\n",
       "      <th>1</th>\n",
       "      <td>Hi.</td>\n",
       "      <td>Salut !</td>\n",
       "    </tr>\n",
       "    <tr>\n",
       "      <th>2</th>\n",
       "      <td>Hi.</td>\n",
       "      <td>Salut.</td>\n",
       "    </tr>\n",
       "    <tr>\n",
       "      <th>3</th>\n",
       "      <td>Run!</td>\n",
       "      <td>Cours !</td>\n",
       "    </tr>\n",
       "    <tr>\n",
       "      <th>4</th>\n",
       "      <td>Run!</td>\n",
       "      <td>Courez !</td>\n",
       "    </tr>\n",
       "  </tbody>\n",
       "</table>\n",
       "</div>"
      ],
      "text/plain": [
       "  English    French\n",
       "0     Go.      Va !\n",
       "1     Hi.   Salut !\n",
       "2     Hi.    Salut.\n",
       "3    Run!   Cours !\n",
       "4    Run!  Courez !"
      ]
     },
     "execution_count": 2,
     "metadata": {
      "tags": []
     },
     "output_type": "execute_result"
    }
   ],
   "source": [
    "# convert data into dataframe  \n",
    "data = pd.read_csv('fra.txt', delimiter='\\t', names=['English', 'French'], usecols=[0,1])\n",
    "dataCopy=data\n",
    "data.head()"
   ]
  },
  {
   "cell_type": "code",
   "execution_count": 0,
   "metadata": {
    "colab": {},
    "colab_type": "code",
    "id": "Ze1lSC5gPcGk"
   },
   "outputs": [],
   "source": [
    "data.shape\n",
    "# restrict dataset to 60000 records\n",
    "dataLimit = np.random.rand(len(dataCopy)) <= 0.35\n",
    "limitDataset=dataCopy[dataLimit]"
   ]
  },
  {
   "cell_type": "code",
   "execution_count": 4,
   "metadata": {
    "colab": {
     "base_uri": "https://localhost:8080/",
     "height": 35
    },
    "colab_type": "code",
    "id": "SDRFyiuZPwqd",
    "outputId": "7b00c767-7458-4dc4-ef34-4331fc6b2fc2"
   },
   "outputs": [
    {
     "data": {
      "text/plain": [
       "(60670, 2)"
      ]
     },
     "execution_count": 4,
     "metadata": {
      "tags": []
     },
     "output_type": "execute_result"
    }
   ],
   "source": [
    "limitDataset.shape"
   ]
  },
  {
   "cell_type": "code",
   "execution_count": 5,
   "metadata": {
    "colab": {
     "base_uri": "https://localhost:8080/",
     "height": 35
    },
    "colab_type": "code",
    "id": "n1j23SeBVWs3",
    "outputId": "9fffa43f-1441-480d-faae-1aa17c1b0c92"
   },
   "outputs": [
    {
     "name": "stdout",
     "output_type": "stream",
     "text": [
      "Vocabulary Size: English  10051 French  19512\n"
     ]
    }
   ],
   "source": [
    "#keras based tokenizer is used to map words to integer\n",
    "tokenizerEn=Tokenizer()\n",
    "tokenizerFr=Tokenizer()\n",
    "\n",
    "tokenizerEn.fit_on_texts(limitDataset['English'].to_numpy())\n",
    "vocabSizeEn = len(tokenizerEn.word_index) + 1\n",
    "\n",
    "tokenizerFr.fit_on_texts(limitDataset['French'].to_numpy())\n",
    "vocabSizeFr = len(tokenizerFr.word_index) + 1\n",
    "\n",
    "print('Vocabulary Size: English ', vocabSizeEn, \"French \", vocabSizeFr)"
   ]
  },
  {
   "cell_type": "code",
   "execution_count": 6,
   "metadata": {
    "colab": {
     "base_uri": "https://localhost:8080/",
     "height": 35
    },
    "colab_type": "code",
    "id": "hTWGjh3bQZwe",
    "outputId": "02a4a303-ab84-4fed-c7c8-d0262f3796be"
   },
   "outputs": [
    {
     "name": "stdout",
     "output_type": "stream",
     "text": [
      "Maximum sized length : English  47 French  51\n"
     ]
    }
   ],
   "source": [
    "#Data preprocessing to clean the data and get the maximum sized length of sentences from both languages\n",
    "maxLenEn = 0\n",
    "maxLenFr = 0\n",
    "for index, row in limitDataset.iterrows():\n",
    "    row['English']=row['English'].translate(str.maketrans('', '', st.punctuation)).lower()\n",
    "    if len(row['English'].split())>maxLenEn:\n",
    "        maxLenEn=len(row['English'].split())\n",
    "    row['French']=row['French'].translate(str.maketrans('', '', st.punctuation)).lower()\n",
    "    if len(row['French'].split())>maxLenFr:\n",
    "        maxLenFr=len(row['French'].split())  \n",
    "print(\"Maximum sized length : English \",maxLenEn,\"French \", maxLenFr )"
   ]
  },
  {
   "cell_type": "code",
   "execution_count": 7,
   "metadata": {
    "colab": {
     "base_uri": "https://localhost:8080/",
     "height": 35
    },
    "colab_type": "code",
    "id": "0aZ9oy4BPYEh",
    "outputId": "d8f8128a-39f0-4100-a619-07c0bfe27682"
   },
   "outputs": [
    {
     "name": "stdout",
     "output_type": "stream",
     "text": [
      "Training Data:  (42534, 2)  Test data:  (18136, 2)\n"
     ]
    }
   ],
   "source": [
    "# we will split the data to keep 70:30 ratio for training and test data\n",
    "splitData = np.random.rand(len(limitDataset)) <= 0.7\n",
    "trainData = limitDataset[splitData]\n",
    "testData = limitDataset[~splitData]\n",
    "#check the data count in training set and test set\n",
    "print(\"Training Data: \",trainData.shape,\" Test data: \",testData.shape)\n",
    "# Data in to numpy array conversion\n",
    "trainDataNP=trainData.to_numpy()\n",
    "testDataNP=testData.to_numpy()"
   ]
  },
  {
   "cell_type": "markdown",
   "metadata": {
    "colab_type": "text",
    "id": "NHEh1q55KMLh"
   },
   "source": [
    "**Data encoding is done i.e. converting text to ids and add padding to make all sequences of same length. **"
   ]
  },
  {
   "cell_type": "code",
   "execution_count": 0,
   "metadata": {
    "colab": {},
    "colab_type": "code",
    "id": "wDokS3TrX3vg"
   },
   "outputs": [],
   "source": [
    "def dataEncoder(allData, lanTokenizer, length):\n",
    "    encodedData = lanTokenizer.texts_to_sequences(allData)\n",
    "    paddedData = pad_sequences(encodedData, maxlen=length, padding='post')\n",
    "    return paddedData\n",
    "\n",
    "trainFr = dataEncoder(trainDataNP[:, 1],tokenizerFr,maxLenFr)\n",
    "trainEn = dataEncoder(trainDataNP[:, 0],tokenizerEn,maxLenEn)\n",
    "testFr = dataEncoder(testDataNP[:, 1],tokenizerFr,maxLenFr)\n",
    "testEn = dataEncoder(testDataNP[:, 0],tokenizerEn,maxLenEn)"
   ]
  },
  {
   "cell_type": "code",
   "execution_count": 9,
   "metadata": {
    "colab": {
     "base_uri": "https://localhost:8080/",
     "height": 35
    },
    "colab_type": "code",
    "id": "rEBL70vrw7yR",
    "outputId": "093ac099-028c-4659-e918-d9ac04dbe00b"
   },
   "outputs": [
    {
     "name": "stdout",
     "output_type": "stream",
     "text": [
      "(42534, 51) (18136, 51)\n"
     ]
    }
   ],
   "source": [
    "print(trainFr.shape, testFr.shape)"
   ]
  },
  {
   "cell_type": "code",
   "execution_count": 10,
   "metadata": {
    "colab": {
     "base_uri": "https://localhost:8080/",
     "height": 263
    },
    "colab_type": "code",
    "id": "Yr1JGCSS2MHp",
    "outputId": "5bb77729-55de-45c7-ae5c-ecff407312f1"
   },
   "outputs": [
    {
     "name": "stdout",
     "output_type": "stream",
     "text": [
      "WARNING:tensorflow:From /usr/local/lib/python3.6/dist-packages/keras/backend/tensorflow_backend.py:66: The name tf.get_default_graph is deprecated. Please use tf.compat.v1.get_default_graph instead.\n",
      "\n",
      "WARNING:tensorflow:From /usr/local/lib/python3.6/dist-packages/keras/backend/tensorflow_backend.py:541: The name tf.placeholder is deprecated. Please use tf.compat.v1.placeholder instead.\n",
      "\n",
      "WARNING:tensorflow:From /usr/local/lib/python3.6/dist-packages/keras/backend/tensorflow_backend.py:4432: The name tf.random_uniform is deprecated. Please use tf.random.uniform instead.\n",
      "\n",
      "WARNING:tensorflow:From /usr/local/lib/python3.6/dist-packages/keras/backend/tensorflow_backend.py:3239: where (from tensorflow.python.ops.array_ops) is deprecated and will be removed in a future version.\n",
      "Instructions for updating:\n",
      "Use tf.where in 2.0, which has the same broadcast rule as np.where\n",
      "WARNING:tensorflow:From /usr/local/lib/python3.6/dist-packages/keras/optimizers.py:793: The name tf.train.Optimizer is deprecated. Please use tf.compat.v1.train.Optimizer instead.\n",
      "\n",
      "WARNING:tensorflow:From /usr/local/lib/python3.6/dist-packages/keras/backend/tensorflow_backend.py:3622: The name tf.log is deprecated. Please use tf.math.log instead.\n",
      "\n"
     ]
    }
   ],
   "source": [
    "#Sequence model\n",
    "def sequenceModel(vocabFr, vocabEn, maxFr, maxEn, units):\n",
    "    seqModel = Sequential()\n",
    "    seqModel.add(Embedding(vocabFr, units, input_length=maxFr, mask_zero=True))\n",
    "    seqModel.add(LSTM(units))\n",
    "    seqModel.add(RepeatVector(maxEn))\n",
    "    seqModel.add(LSTM(units, return_sequences=True))\n",
    "    seqModel.add(Dense(vocabEn, activation='softmax'))\n",
    "    return seqModel\n",
    "\n",
    "seqModel = sequenceModel(vocabSizeFr, vocabSizeEn, maxLenFr, maxLenEn, 256)\n",
    "rmsOptimizer = optimizers.RMSprop(lr=0.01)\n",
    "seqModel.compile(optimizer=rmsOptimizer, loss='sparse_categorical_crossentropy')"
   ]
  },
  {
   "cell_type": "code",
   "execution_count": 11,
   "metadata": {
    "colab": {
     "base_uri": "https://localhost:8080/",
     "height": 852
    },
    "colab_type": "code",
    "id": "Sye8mavR44sm",
    "outputId": "ce44875f-2603-458c-debf-a69c324d7c36"
   },
   "outputs": [
    {
     "name": "stdout",
     "output_type": "stream",
     "text": [
      "WARNING:tensorflow:From /usr/local/lib/python3.6/dist-packages/keras/backend/tensorflow_backend.py:1033: The name tf.assign_add is deprecated. Please use tf.compat.v1.assign_add instead.\n",
      "\n",
      "WARNING:tensorflow:From /usr/local/lib/python3.6/dist-packages/keras/backend/tensorflow_backend.py:1020: The name tf.assign is deprecated. Please use tf.compat.v1.assign instead.\n",
      "\n",
      "WARNING:tensorflow:From /usr/local/lib/python3.6/dist-packages/keras/backend/tensorflow_backend.py:3005: The name tf.Session is deprecated. Please use tf.compat.v1.Session instead.\n",
      "\n",
      "Train on 34027 samples, validate on 8507 samples\n",
      "Epoch 1/15\n",
      "WARNING:tensorflow:From /usr/local/lib/python3.6/dist-packages/keras/backend/tensorflow_backend.py:190: The name tf.get_default_session is deprecated. Please use tf.compat.v1.get_default_session instead.\n",
      "\n",
      "WARNING:tensorflow:From /usr/local/lib/python3.6/dist-packages/keras/backend/tensorflow_backend.py:197: The name tf.ConfigProto is deprecated. Please use tf.compat.v1.ConfigProto instead.\n",
      "\n",
      "WARNING:tensorflow:From /usr/local/lib/python3.6/dist-packages/keras/backend/tensorflow_backend.py:207: The name tf.global_variables is deprecated. Please use tf.compat.v1.global_variables instead.\n",
      "\n",
      "WARNING:tensorflow:From /usr/local/lib/python3.6/dist-packages/keras/backend/tensorflow_backend.py:216: The name tf.is_variable_initialized is deprecated. Please use tf.compat.v1.is_variable_initialized instead.\n",
      "\n",
      "WARNING:tensorflow:From /usr/local/lib/python3.6/dist-packages/keras/backend/tensorflow_backend.py:223: The name tf.variables_initializer is deprecated. Please use tf.compat.v1.variables_initializer instead.\n",
      "\n",
      "34027/34027 [==============================] - 240s 7ms/step - loss: 0.9437 - val_loss: 1.4030\n",
      "Epoch 2/15\n",
      "34027/34027 [==============================] - 227s 7ms/step - loss: 0.6145 - val_loss: 1.4359\n",
      "Epoch 3/15\n",
      "34027/34027 [==============================] - 224s 7ms/step - loss: 0.5093 - val_loss: 1.3170\n",
      "Epoch 4/15\n",
      "34027/34027 [==============================] - 238s 7ms/step - loss: 0.4324 - val_loss: 1.3289\n",
      "Epoch 5/15\n",
      "34027/34027 [==============================] - 235s 7ms/step - loss: 0.3731 - val_loss: 1.3369\n",
      "Epoch 6/15\n",
      "34027/34027 [==============================] - 246s 7ms/step - loss: 0.3256 - val_loss: 1.3718\n",
      "Epoch 7/15\n",
      "34027/34027 [==============================] - 245s 7ms/step - loss: 0.2866 - val_loss: 1.3760\n",
      "Epoch 8/15\n",
      "34027/34027 [==============================] - 244s 7ms/step - loss: 0.2548 - val_loss: 1.4794\n",
      "Epoch 9/15\n",
      "34027/34027 [==============================] - 247s 7ms/step - loss: 0.2285 - val_loss: 1.4733\n",
      "Epoch 10/15\n",
      "34027/34027 [==============================] - 243s 7ms/step - loss: 0.2070 - val_loss: 1.5364\n",
      "Epoch 11/15\n",
      "34027/34027 [==============================] - 241s 7ms/step - loss: 0.1889 - val_loss: 1.5678\n",
      "Epoch 12/15\n",
      "34027/34027 [==============================] - 203s 6ms/step - loss: 0.1757 - val_loss: 1.6117\n",
      "Epoch 13/15\n",
      "34027/34027 [==============================] - 201s 6ms/step - loss: 0.1645 - val_loss: 1.5888\n",
      "Epoch 14/15\n",
      "34027/34027 [==============================] - 201s 6ms/step - loss: 0.1548 - val_loss: 1.6329\n",
      "Epoch 15/15\n",
      "34027/34027 [==============================] - 201s 6ms/step - loss: 0.1461 - val_loss: 1.6556\n"
     ]
    }
   ],
   "source": [
    "modelPrediction = seqModel.fit(trainFr, trainEn.reshape(trainEn.shape[0], trainEn.shape[1], 1),epochs=15, batch_size=256, validation_split = 0.2, verbose=1)"
   ]
  },
  {
   "cell_type": "code",
   "execution_count": 0,
   "metadata": {
    "colab": {},
    "colab_type": "code",
    "id": "WUE8e54f54if"
   },
   "outputs": [],
   "source": [
    "#Get predictions for text data \n",
    "testPrediction = seqModel.predict_classes(testFr.reshape((testFr.shape[0],testFr.shape[1])))"
   ]
  },
  {
   "cell_type": "code",
   "execution_count": 0,
   "metadata": {
    "colab": {},
    "colab_type": "code",
    "id": "64hf0jpJ8IBK"
   },
   "outputs": [],
   "source": [
    "## data decoder Convert mapped words in to normal words\n",
    "def wordConversion(word_index, tokenizer):\n",
    "    for word, index in tokenizer.word_index.items():\n",
    "        if index == word_index:\n",
    "            return word\n",
    "    return None\n",
    "    \n",
    "def dataDecoder(prediction):\n",
    "    textPredicted=list()\n",
    "    for sentence in prediction:\n",
    "        sentenceConverted = list()\n",
    "        for word_index in range(len(sentence)):\n",
    "            word = wordConversion(sentence[word_index], tokenizerEn)\n",
    "            if word_index > 0:\n",
    "                if (word == wordConversion(sentence[word_index-1], tokenizerEn)) or (word == None):\n",
    "                    sentenceConverted.append('')\n",
    "                else:\n",
    "                    sentenceConverted.append(word)\n",
    "\n",
    "            else:\n",
    "                if(word == None):\n",
    "                    sentenceConverted.append('')\n",
    "                else:\n",
    "                    sentenceConverted.append(word)            \n",
    "\n",
    "        textPredicted.append(' '.join(sentenceConverted))\n",
    "        \n",
    "    return textPredicted"
   ]
  },
  {
   "cell_type": "code",
   "execution_count": 0,
   "metadata": {
    "colab": {},
    "colab_type": "code",
    "id": "NZhxXezP9vQ-"
   },
   "outputs": [],
   "source": [
    "#calling data decoder for the predictions\n",
    "predictedText = dataDecoder(testPrediction)\n",
    "predictedDataframe = pd.DataFrame({'French text': testData['French'],' Expected text' : testData['English'], 'Predicted text' : predictedText})"
   ]
  },
  {
   "cell_type": "markdown",
   "metadata": {
    "colab_type": "text",
    "id": "GSruLeXrG969"
   },
   "source": [
    "# ***Data after conversion from french to english i.e. both the expected and predicted english text***"
   ]
  },
  {
   "cell_type": "code",
   "execution_count": 15,
   "metadata": {
    "colab": {
     "base_uri": "https://localhost:8080/",
     "height": 355
    },
    "colab_type": "code",
    "id": "EIPzs9tI-Bke",
    "outputId": "7686444e-1f44-4a04-983f-01cffb59568e"
   },
   "outputs": [
    {
     "data": {
      "text/html": [
       "<div>\n",
       "<style scoped>\n",
       "    .dataframe tbody tr th:only-of-type {\n",
       "        vertical-align: middle;\n",
       "    }\n",
       "\n",
       "    .dataframe tbody tr th {\n",
       "        vertical-align: top;\n",
       "    }\n",
       "\n",
       "    .dataframe thead th {\n",
       "        text-align: right;\n",
       "    }\n",
       "</style>\n",
       "<table border=\"1\" class=\"dataframe\">\n",
       "  <thead>\n",
       "    <tr style=\"text-align: right;\">\n",
       "      <th></th>\n",
       "      <th>French text</th>\n",
       "      <th>Expected text</th>\n",
       "      <th>Predicted text</th>\n",
       "    </tr>\n",
       "  </thead>\n",
       "  <tbody>\n",
       "    <tr>\n",
       "      <th>0</th>\n",
       "      <td>va</td>\n",
       "      <td>go</td>\n",
       "      <td>go yourself                                   ...</td>\n",
       "    </tr>\n",
       "    <tr>\n",
       "      <th>10</th>\n",
       "      <td>ça suffit</td>\n",
       "      <td>stop</td>\n",
       "      <td>it</td>\n",
       "    </tr>\n",
       "    <tr>\n",
       "      <th>30</th>\n",
       "      <td>merci</td>\n",
       "      <td>cheers</td>\n",
       "      <td>thanks and for me                             ...</td>\n",
       "    </tr>\n",
       "    <tr>\n",
       "      <th>41</th>\n",
       "      <td>monte</td>\n",
       "      <td>hop in</td>\n",
       "      <td>you are other                                 ...</td>\n",
       "    </tr>\n",
       "    <tr>\n",
       "      <th>64</th>\n",
       "      <td>en aucune manière</td>\n",
       "      <td>no way</td>\n",
       "      <td>i it of                                       ...</td>\n",
       "    </tr>\n",
       "    <tr>\n",
       "      <th>83</th>\n",
       "      <td>soyez justes</td>\n",
       "      <td>be fair</td>\n",
       "      <td>be beautiful                                  ...</td>\n",
       "    </tr>\n",
       "    <tr>\n",
       "      <th>101</th>\n",
       "      <td>entre</td>\n",
       "      <td>come in</td>\n",
       "      <td>come on                                       ...</td>\n",
       "    </tr>\n",
       "    <tr>\n",
       "      <th>114</th>\n",
       "      <td>sortez</td>\n",
       "      <td>get out</td>\n",
       "      <td>take of                                       ...</td>\n",
       "    </tr>\n",
       "    <tr>\n",
       "      <th>118</th>\n",
       "      <td>pars</td>\n",
       "      <td>go away</td>\n",
       "      <td>go away                                       ...</td>\n",
       "    </tr>\n",
       "    <tr>\n",
       "      <th>126</th>\n",
       "      <td>allezvous en</td>\n",
       "      <td>go away</td>\n",
       "      <td>lets you coming                               ...</td>\n",
       "    </tr>\n",
       "  </tbody>\n",
       "</table>\n",
       "</div>"
      ],
      "text/plain": [
       "            French text  ...                                     Predicted text\n",
       "0                   va   ...  go yourself                                   ...\n",
       "10           ça suffit   ...   it                                              \n",
       "30               merci   ...  thanks and for me                             ...\n",
       "41                monte  ...  you are other                                 ...\n",
       "64   en aucune manière   ...  i it of                                       ...\n",
       "83        soyez justes   ...  be beautiful                                  ...\n",
       "101              entre   ...  come on                                       ...\n",
       "114             sortez   ...  take of                                       ...\n",
       "118               pars   ...  go away                                       ...\n",
       "126       allezvous en   ...  lets you coming                               ...\n",
       "\n",
       "[10 rows x 3 columns]"
      ]
     },
     "execution_count": 15,
     "metadata": {
      "tags": []
     },
     "output_type": "execute_result"
    }
   ],
   "source": [
    "\n",
    "predictedDataframe.head(10)"
   ]
  },
  {
   "cell_type": "markdown",
   "metadata": {
    "colab_type": "text",
    "id": "vxI95pCaGo_g"
   },
   "source": [
    "# ***Using corpus bleu function to calculate the Bleu score for data***"
   ]
  },
  {
   "cell_type": "code",
   "execution_count": 16,
   "metadata": {
    "colab": {
     "base_uri": "https://localhost:8080/",
     "height": 104
    },
    "colab_type": "code",
    "id": "LTJqNco-_MWj",
    "outputId": "c7c4c2de-f516-4857-d4f1-0f3ce1b390b1"
   },
   "outputs": [
    {
     "name": "stdout",
     "output_type": "stream",
     "text": [
      "BLEU score using corpus bleu function: 0.6228368827623536\n"
     ]
    },
    {
     "name": "stderr",
     "output_type": "stream",
     "text": [
      "/usr/local/lib/python3.6/dist-packages/nltk/translate/bleu_score.py:490: UserWarning: \n",
      "Corpus/Sentence contains 0 counts of 2-gram overlaps.\n",
      "BLEU scores might be undesirable; use SmoothingFunction().\n",
      "  warnings.warn(_msg)\n"
     ]
    }
   ],
   "source": [
    "print('BLEU score using corpus bleu function:',corpus_bleu(testDataNP[:,0], predictedText))"
   ]
  },
  {
   "cell_type": "markdown",
   "metadata": {
    "colab_type": "text",
    "id": "N8vuCXQhIM46"
   },
   "source": [
    "## ***Ploting training and validation losses***\n",
    "\n"
   ]
  },
  {
   "cell_type": "code",
   "execution_count": 24,
   "metadata": {
    "colab": {
     "base_uri": "https://localhost:8080/",
     "height": 265
    },
    "colab_type": "code",
    "id": "nvBTfUBbhTFq",
    "outputId": "392dd434-3ca6-4a0e-e7c6-114f12f897a8"
   },
   "outputs": [
    {
     "data": {
      "image/png": "[encoded data removed]",
      "text/plain": [
       "<Figure size 432x288 with 1 Axes>"
      ]
     },
     "metadata": {
      "tags": []
     },
     "output_type": "display_data"
    }
   ],
   "source": [
    "plt.plot(modelPrediction.history['loss'])\n",
    "plt.plot(modelPrediction.history['val_loss'])\n",
    "plt.legend(['training','validation'])\n",
    "plt.show()"
   ]
  }
 ],
 "metadata": {
  "accelerator": "TPU",
  "colab": {
   "collapsed_sections": [],
   "machine_shape": "hm",
   "name": "NMT_Fre_Eng.ipynb",
   "provenance": [],
   "toc_visible": true
  },
  "kernelspec": {
   "display_name": "Python 3",
   "language": "python",
   "name": "python3"
  },
  "language_info": {
   "codemirror_mode": {
    "name": "ipython",
    "version": 3
   },
   "file_extension": ".py",
   "mimetype": "text/x-python",
   "name": "python",
   "nbconvert_exporter": "python",
   "pygments_lexer": "ipython3",
   "version": "3.7.3"
  }
 },
 "nbformat": 4,
 "nbformat_minor": 1
}
