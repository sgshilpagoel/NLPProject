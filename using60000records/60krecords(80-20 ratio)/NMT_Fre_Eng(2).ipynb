{
 "cells": [
  {
   "cell_type": "code",
   "execution_count": 1,
   "metadata": {
    "colab": {
     "base_uri": "https://localhost:8080/",
     "height": 99
    },
    "colab_type": "code",
    "id": "djhFyrSi9BkM",
    "outputId": "a364e93e-3698-4a3d-b5f1-cc07f391f995"
   },
   "outputs": [
    {
     "name": "stderr",
     "output_type": "stream",
     "text": [
      "Using TensorFlow backend.\n"
     ]
    },
    {
     "data": {
      "text/html": [
       "<p style=\"color: red;\">\n",
       "The default version of TensorFlow in Colab will soon switch to TensorFlow 2.x.<br>\n",
       "We recommend you <a href=\"https://www.tensorflow.org/guide/migrate\" target=\"_blank\">upgrade</a> now \n",
       "or ensure your notebook will continue to use TensorFlow 1.x via the <code>%tensorflow_version 1.x</code> magic:\n",
       "<a href=\"https://colab.research.google.com/notebooks/tensorflow_version.ipynb\" target=\"_blank\">more info</a>.</p>\n"
      ],
      "text/plain": [
       "<IPython.core.display.HTML object>"
      ]
     },
     "metadata": {
      "tags": []
     },
     "output_type": "display_data"
    }
   ],
   "source": [
    "import pandas as pd\n",
    "import numpy as np\n",
    "import sklearn\n",
    "import nltk\n",
    "import keras\n",
    "import string as st\n",
    "from keras.preprocessing.text import Tokenizer\n",
    "from keras.preprocessing.sequence import pad_sequences\n",
    "from google.colab import files\n",
    "from keras.models import Sequential\n",
    "from keras.layers import Embedding\n",
    "from keras.layers import RepeatVector\n",
    "from keras.layers import LSTM\n",
    "from keras.layers import Dense\n",
    "from keras import optimizers\n",
    "from nltk.translate.bleu_score import corpus_bleu\n",
    "import matplotlib.pyplot as plt\n"
   ]
  },
  {
   "cell_type": "markdown",
   "metadata": {
    "colab_type": "text",
    "id": "9avi6blXMuuf"
   },
   "source": [
    "***Run the code in google colab.***"
   ]
  },
  {
   "cell_type": "markdown",
   "metadata": {
    "colab_type": "text",
    "id": "pghSJcM3Ho8a"
   },
   "source": [
    "# ***Neural Machine Translation from french to english using encoder decoder sequence model.***\n"
   ]
  },
  {
   "cell_type": "markdown",
   "metadata": {
    "colab_type": "text",
    "id": "cMAzzF_wJ1TC"
   },
   "source": [
    "# ***For previous submission, dataset was set to 35000 records.For this,it is restricted to 60000 records apporx.[80:20 ratio] for this execution (total dataset is of 174481 records).***\n",
    "\n",
    "I have generated the output in the csv file 'predicted.csv' which will be visible in the left pane on refreshing."
   ]
  },
  {
   "cell_type": "code",
   "execution_count": 2,
   "metadata": {
    "colab": {
     "base_uri": "https://localhost:8080/",
     "height": 202
    },
    "colab_type": "code",
    "id": "qI7AZzSBOxn_",
    "outputId": "39d0ce65-adb9-4da4-f9b5-13396c5089ea"
   },
   "outputs": [
    {
     "data": {
      "text/html": [
       "<div>\n",
       "<style scoped>\n",
       "    .dataframe tbody tr th:only-of-type {\n",
       "        vertical-align: middle;\n",
       "    }\n",
       "\n",
       "    .dataframe tbody tr th {\n",
       "        vertical-align: top;\n",
       "    }\n",
       "\n",
       "    .dataframe thead th {\n",
       "        text-align: right;\n",
       "    }\n",
       "</style>\n",
       "<table border=\"1\" class=\"dataframe\">\n",
       "  <thead>\n",
       "    <tr style=\"text-align: right;\">\n",
       "      <th></th>\n",
       "      <th>English</th>\n",
       "      <th>French</th>\n",
       "    </tr>\n",
       "  </thead>\n",
       "  <tbody>\n",
       "    <tr>\n",
       "      <th>0</th>\n",
       "      <td>Go.</td>\n",
       "      <td>Va !</td>\n",
       "    </tr>\n",
       "    <tr>\n",
       "      <th>1</th>\n",
       "      <td>Hi.</td>\n",
       "      <td>Salut !</td>\n",
       "    </tr>\n",
       "    <tr>\n",
       "      <th>2</th>\n",
       "      <td>Hi.</td>\n",
       "      <td>Salut.</td>\n",
       "    </tr>\n",
       "    <tr>\n",
       "      <th>3</th>\n",
       "      <td>Run!</td>\n",
       "      <td>Cours !</td>\n",
       "    </tr>\n",
       "    <tr>\n",
       "      <th>4</th>\n",
       "      <td>Run!</td>\n",
       "      <td>Courez !</td>\n",
       "    </tr>\n",
       "  </tbody>\n",
       "</table>\n",
       "</div>"
      ],
      "text/plain": [
       "  English    French\n",
       "0     Go.      Va !\n",
       "1     Hi.   Salut !\n",
       "2     Hi.    Salut.\n",
       "3    Run!   Cours !\n",
       "4    Run!  Courez !"
      ]
     },
     "execution_count": 2,
     "metadata": {
      "tags": []
     },
     "output_type": "execute_result"
    }
   ],
   "source": [
    "# convert data into dataframe  \n",
    "data = pd.read_csv('fra.txt', delimiter='\\t', names=['English', 'French'], usecols=[0,1])\n",
    "dataCopy=data\n",
    "data.head()"
   ]
  },
  {
   "cell_type": "code",
   "execution_count": 0,
   "metadata": {
    "colab": {},
    "colab_type": "code",
    "id": "Ze1lSC5gPcGk"
   },
   "outputs": [],
   "source": [
    "data.shape\n",
    "# restrict dataset to 60000 records\n",
    "dataLimit = np.random.rand(len(dataCopy)) <= 0.35\n",
    "limitDataset=dataCopy[dataLimit]"
   ]
  },
  {
   "cell_type": "code",
   "execution_count": 4,
   "metadata": {
    "colab": {
     "base_uri": "https://localhost:8080/",
     "height": 35
    },
    "colab_type": "code",
    "id": "SDRFyiuZPwqd",
    "outputId": "5b57404a-ca44-4e24-9783-f406f7a91def"
   },
   "outputs": [
    {
     "data": {
      "text/plain": [
       "(61196, 2)"
      ]
     },
     "execution_count": 4,
     "metadata": {
      "tags": []
     },
     "output_type": "execute_result"
    }
   ],
   "source": [
    "limitDataset.shape"
   ]
  },
  {
   "cell_type": "code",
   "execution_count": 5,
   "metadata": {
    "colab": {
     "base_uri": "https://localhost:8080/",
     "height": 35
    },
    "colab_type": "code",
    "id": "n1j23SeBVWs3",
    "outputId": "2edb5231-65e4-4404-e3c2-48f3987bca87"
   },
   "outputs": [
    {
     "name": "stdout",
     "output_type": "stream",
     "text": [
      "Vocabulary Size: English  10067 French  19415\n"
     ]
    }
   ],
   "source": [
    "#keras based tokenizer is used to map words to integer\n",
    "tokenizerEn=Tokenizer()\n",
    "tokenizerFr=Tokenizer()\n",
    "\n",
    "tokenizerEn.fit_on_texts(limitDataset['English'].to_numpy())\n",
    "vocabSizeEn = len(tokenizerEn.word_index) + 1\n",
    "\n",
    "tokenizerFr.fit_on_texts(limitDataset['French'].to_numpy())\n",
    "vocabSizeFr = len(tokenizerFr.word_index) + 1\n",
    "\n",
    "print('Vocabulary Size: English ', vocabSizeEn, \"French \", vocabSizeFr)"
   ]
  },
  {
   "cell_type": "code",
   "execution_count": 6,
   "metadata": {
    "colab": {
     "base_uri": "https://localhost:8080/",
     "height": 35
    },
    "colab_type": "code",
    "id": "hTWGjh3bQZwe",
    "outputId": "8576712f-cad5-49e0-df43-7995001326d1"
   },
   "outputs": [
    {
     "name": "stdout",
     "output_type": "stream",
     "text": [
      "Maximum sized length : English  35 French  47\n"
     ]
    }
   ],
   "source": [
    "#Data preprocessing to clean the data and get the maximum sized length of sentences from both languages\n",
    "maxLenEn = 0\n",
    "maxLenFr = 0\n",
    "for index, row in limitDataset.iterrows():\n",
    "    row['English']=row['English'].translate(str.maketrans('', '', st.punctuation)).lower()\n",
    "    if len(row['English'].split())>maxLenEn:\n",
    "        maxLenEn=len(row['English'].split())\n",
    "    row['French']=row['French'].translate(str.maketrans('', '', st.punctuation)).lower()\n",
    "    if len(row['French'].split())>maxLenFr:\n",
    "        maxLenFr=len(row['French'].split())  \n",
    "print(\"Maximum sized length : English \",maxLenEn,\"French \", maxLenFr )"
   ]
  },
  {
   "cell_type": "code",
   "execution_count": 7,
   "metadata": {
    "colab": {
     "base_uri": "https://localhost:8080/",
     "height": 35
    },
    "colab_type": "code",
    "id": "0aZ9oy4BPYEh",
    "outputId": "52590206-eac2-4990-a702-912b4a02b3f2"
   },
   "outputs": [
    {
     "name": "stdout",
     "output_type": "stream",
     "text": [
      "Training Data:  (48983, 2)  Test data:  (12213, 2)\n"
     ]
    }
   ],
   "source": [
    "# we will split the data to keep 80:20 ratio for training and test data\n",
    "splitData = np.random.rand(len(limitDataset)) <= 0.8\n",
    "trainData = limitDataset[splitData]\n",
    "testData = limitDataset[~splitData]\n",
    "#check the data count in training set and test set\n",
    "print(\"Training Data: \",trainData.shape,\" Test data: \",testData.shape)\n",
    "# Data in to numpy array conversion\n",
    "trainDataNP=trainData.to_numpy()\n",
    "testDataNP=testData.to_numpy()"
   ]
  },
  {
   "cell_type": "markdown",
   "metadata": {
    "colab_type": "text",
    "id": "NHEh1q55KMLh"
   },
   "source": [
    "**Data encoding is done i.e. converting text to ids and add padding to make all sequences of same length. **"
   ]
  },
  {
   "cell_type": "code",
   "execution_count": 0,
   "metadata": {
    "colab": {},
    "colab_type": "code",
    "id": "wDokS3TrX3vg"
   },
   "outputs": [],
   "source": [
    "def dataEncoder(allData, lanTokenizer, length):\n",
    "    encodedData = lanTokenizer.texts_to_sequences(allData)\n",
    "    paddedData = pad_sequences(encodedData, maxlen=length, padding='post')\n",
    "    return paddedData\n",
    "\n",
    "trainFr = dataEncoder(trainDataNP[:, 1],tokenizerFr,maxLenFr)\n",
    "trainEn = dataEncoder(trainDataNP[:, 0],tokenizerEn,maxLenEn)\n",
    "testFr = dataEncoder(testDataNP[:, 1],tokenizerFr,maxLenFr)\n",
    "testEn = dataEncoder(testDataNP[:, 0],tokenizerEn,maxLenEn)"
   ]
  },
  {
   "cell_type": "code",
   "execution_count": 9,
   "metadata": {
    "colab": {
     "base_uri": "https://localhost:8080/",
     "height": 35
    },
    "colab_type": "code",
    "id": "rEBL70vrw7yR",
    "outputId": "16320e6e-028d-4257-d269-3831a9318a7c"
   },
   "outputs": [
    {
     "name": "stdout",
     "output_type": "stream",
     "text": [
      "(48983, 47) (12213, 47)\n"
     ]
    }
   ],
   "source": [
    "print(trainFr.shape, testFr.shape)"
   ]
  },
  {
   "cell_type": "code",
   "execution_count": 10,
   "metadata": {
    "colab": {
     "base_uri": "https://localhost:8080/",
     "height": 263
    },
    "colab_type": "code",
    "id": "Yr1JGCSS2MHp",
    "outputId": "7174517c-56bd-4bc8-a8bc-39c7a64969da"
   },
   "outputs": [
    {
     "name": "stdout",
     "output_type": "stream",
     "text": [
      "WARNING:tensorflow:From /usr/local/lib/python3.6/dist-packages/keras/backend/tensorflow_backend.py:66: The name tf.get_default_graph is deprecated. Please use tf.compat.v1.get_default_graph instead.\n",
      "\n",
      "WARNING:tensorflow:From /usr/local/lib/python3.6/dist-packages/keras/backend/tensorflow_backend.py:541: The name tf.placeholder is deprecated. Please use tf.compat.v1.placeholder instead.\n",
      "\n",
      "WARNING:tensorflow:From /usr/local/lib/python3.6/dist-packages/keras/backend/tensorflow_backend.py:4432: The name tf.random_uniform is deprecated. Please use tf.random.uniform instead.\n",
      "\n",
      "WARNING:tensorflow:From /usr/local/lib/python3.6/dist-packages/keras/backend/tensorflow_backend.py:3239: where (from tensorflow.python.ops.array_ops) is deprecated and will be removed in a future version.\n",
      "Instructions for updating:\n",
      "Use tf.where in 2.0, which has the same broadcast rule as np.where\n",
      "WARNING:tensorflow:From /usr/local/lib/python3.6/dist-packages/keras/optimizers.py:793: The name tf.train.Optimizer is deprecated. Please use tf.compat.v1.train.Optimizer instead.\n",
      "\n",
      "WARNING:tensorflow:From /usr/local/lib/python3.6/dist-packages/keras/backend/tensorflow_backend.py:3622: The name tf.log is deprecated. Please use tf.math.log instead.\n",
      "\n"
     ]
    }
   ],
   "source": [
    "#Sequence model\n",
    "def sequenceModel(vocabFr, vocabEn, maxFr, maxEn, units):\n",
    "    seqModel = Sequential()\n",
    "    seqModel.add(Embedding(vocabFr, units, input_length=maxFr, mask_zero=True))\n",
    "    seqModel.add(LSTM(units))\n",
    "    seqModel.add(RepeatVector(maxEn))\n",
    "    seqModel.add(LSTM(units, return_sequences=True))\n",
    "    seqModel.add(Dense(vocabEn, activation='softmax'))\n",
    "    return seqModel\n",
    "\n",
    "seqModel = sequenceModel(vocabSizeFr, vocabSizeEn, maxLenFr, maxLenEn, 256)\n",
    "rmsOptimizer = optimizers.RMSprop(lr=0.01)\n",
    "seqModel.compile(optimizer=rmsOptimizer, loss='sparse_categorical_crossentropy')"
   ]
  },
  {
   "cell_type": "code",
   "execution_count": 11,
   "metadata": {
    "colab": {
     "base_uri": "https://localhost:8080/",
     "height": 852
    },
    "colab_type": "code",
    "id": "Sye8mavR44sm",
    "outputId": "91cec931-f976-4b5d-cffb-2a9fa641833c"
   },
   "outputs": [
    {
     "name": "stdout",
     "output_type": "stream",
     "text": [
      "WARNING:tensorflow:From /usr/local/lib/python3.6/dist-packages/keras/backend/tensorflow_backend.py:1033: The name tf.assign_add is deprecated. Please use tf.compat.v1.assign_add instead.\n",
      "\n",
      "WARNING:tensorflow:From /usr/local/lib/python3.6/dist-packages/keras/backend/tensorflow_backend.py:1020: The name tf.assign is deprecated. Please use tf.compat.v1.assign instead.\n",
      "\n",
      "WARNING:tensorflow:From /usr/local/lib/python3.6/dist-packages/keras/backend/tensorflow_backend.py:3005: The name tf.Session is deprecated. Please use tf.compat.v1.Session instead.\n",
      "\n",
      "Train on 39186 samples, validate on 9797 samples\n",
      "Epoch 1/15\n",
      "WARNING:tensorflow:From /usr/local/lib/python3.6/dist-packages/keras/backend/tensorflow_backend.py:190: The name tf.get_default_session is deprecated. Please use tf.compat.v1.get_default_session instead.\n",
      "\n",
      "WARNING:tensorflow:From /usr/local/lib/python3.6/dist-packages/keras/backend/tensorflow_backend.py:197: The name tf.ConfigProto is deprecated. Please use tf.compat.v1.ConfigProto instead.\n",
      "\n",
      "WARNING:tensorflow:From /usr/local/lib/python3.6/dist-packages/keras/backend/tensorflow_backend.py:207: The name tf.global_variables is deprecated. Please use tf.compat.v1.global_variables instead.\n",
      "\n",
      "WARNING:tensorflow:From /usr/local/lib/python3.6/dist-packages/keras/backend/tensorflow_backend.py:216: The name tf.is_variable_initialized is deprecated. Please use tf.compat.v1.is_variable_initialized instead.\n",
      "\n",
      "WARNING:tensorflow:From /usr/local/lib/python3.6/dist-packages/keras/backend/tensorflow_backend.py:223: The name tf.variables_initializer is deprecated. Please use tf.compat.v1.variables_initializer instead.\n",
      "\n",
      "39186/39186 [==============================] - 189s 5ms/step - loss: 1.2298 - val_loss: 2.0527\n",
      "Epoch 2/15\n",
      "39186/39186 [==============================] - 182s 5ms/step - loss: 0.8053 - val_loss: 1.8164\n",
      "Epoch 3/15\n",
      "39186/39186 [==============================] - 179s 5ms/step - loss: 0.6700 - val_loss: 1.8920\n",
      "Epoch 4/15\n",
      "39186/39186 [==============================] - 181s 5ms/step - loss: 0.5767 - val_loss: 1.7952\n",
      "Epoch 5/15\n",
      "39186/39186 [==============================] - 180s 5ms/step - loss: 0.5028 - val_loss: 1.8955\n",
      "Epoch 6/15\n",
      "39186/39186 [==============================] - 180s 5ms/step - loss: 0.4425 - val_loss: 1.9871\n",
      "Epoch 7/15\n",
      "39186/39186 [==============================] - 181s 5ms/step - loss: 0.3937 - val_loss: 1.9485\n",
      "Epoch 8/15\n",
      "39186/39186 [==============================] - 179s 5ms/step - loss: 0.3548 - val_loss: 1.9731\n",
      "Epoch 9/15\n",
      "39186/39186 [==============================] - 178s 5ms/step - loss: 0.3219 - val_loss: 1.9923\n",
      "Epoch 10/15\n",
      "39186/39186 [==============================] - 178s 5ms/step - loss: 0.2972 - val_loss: 2.0759\n",
      "Epoch 11/15\n",
      "39186/39186 [==============================] - 179s 5ms/step - loss: 0.2752 - val_loss: 2.1477\n",
      "Epoch 12/15\n",
      "39186/39186 [==============================] - 180s 5ms/step - loss: 0.2564 - val_loss: 2.0965\n",
      "Epoch 13/15\n",
      "39186/39186 [==============================] - 181s 5ms/step - loss: 0.2412 - val_loss: 2.1475\n",
      "Epoch 14/15\n",
      "39186/39186 [==============================] - 181s 5ms/step - loss: 0.2285 - val_loss: 2.1773\n",
      "Epoch 15/15\n",
      "39186/39186 [==============================] - 180s 5ms/step - loss: 0.2184 - val_loss: 2.2017\n"
     ]
    }
   ],
   "source": [
    "modelPrediction = seqModel.fit(trainFr, trainEn.reshape(trainEn.shape[0], trainEn.shape[1], 1),epochs=15, batch_size=256, validation_split = 0.2, verbose=1)"
   ]
  },
  {
   "cell_type": "code",
   "execution_count": 0,
   "metadata": {
    "colab": {},
    "colab_type": "code",
    "id": "WUE8e54f54if"
   },
   "outputs": [],
   "source": [
    "#Get predictions for text data \n",
    "testPrediction = seqModel.predict_classes(testFr.reshape((testFr.shape[0],testFr.shape[1])))"
   ]
  },
  {
   "cell_type": "code",
   "execution_count": 0,
   "metadata": {
    "colab": {},
    "colab_type": "code",
    "id": "64hf0jpJ8IBK"
   },
   "outputs": [],
   "source": [
    "## data decoder Convert mapped words in to normal words\n",
    "def wordConversion(word_index, tokenizer):\n",
    "    for word, index in tokenizer.word_index.items():\n",
    "        if index == word_index:\n",
    "            return word\n",
    "    return None\n",
    "    \n",
    "def dataDecoder(prediction):\n",
    "    textPredicted=list()\n",
    "    for sentence in prediction:\n",
    "        sentenceConverted = list()\n",
    "        for word_index in range(len(sentence)):\n",
    "            word = wordConversion(sentence[word_index], tokenizerEn)\n",
    "            if word_index > 0:\n",
    "                if (word == wordConversion(sentence[word_index-1], tokenizerEn)) or (word == None):\n",
    "                    sentenceConverted.append('')\n",
    "                else:\n",
    "                    sentenceConverted.append(word)\n",
    "\n",
    "            else:\n",
    "                if(word == None):\n",
    "                    sentenceConverted.append('')\n",
    "                else:\n",
    "                    sentenceConverted.append(word)            \n",
    "\n",
    "        textPredicted.append(' '.join(sentenceConverted))\n",
    "        \n",
    "    return textPredicted"
   ]
  },
  {
   "cell_type": "code",
   "execution_count": 0,
   "metadata": {
    "colab": {},
    "colab_type": "code",
    "id": "NZhxXezP9vQ-"
   },
   "outputs": [],
   "source": [
    "#calling data decoder for the predictions\n",
    "predictedText = dataDecoder(testPrediction)\n",
    "predictedDataframe = pd.DataFrame({'French text': testData['French'],' Expected text' : testData['English'], 'Predicted text' : predictedText})"
   ]
  },
  {
   "cell_type": "markdown",
   "metadata": {
    "colab_type": "text",
    "id": "GSruLeXrG969"
   },
   "source": [
    "# ***Data after conversion from french to english i.e. both the expected and predicted english text***"
   ]
  },
  {
   "cell_type": "code",
   "execution_count": 15,
   "metadata": {
    "colab": {
     "base_uri": "https://localhost:8080/",
     "height": 355
    },
    "colab_type": "code",
    "id": "EIPzs9tI-Bke",
    "outputId": "c5d83c8d-a717-444a-b29c-c22024491fc4"
   },
   "outputs": [
    {
     "data": {
      "text/html": [
       "<div>\n",
       "<style scoped>\n",
       "    .dataframe tbody tr th:only-of-type {\n",
       "        vertical-align: middle;\n",
       "    }\n",
       "\n",
       "    .dataframe tbody tr th {\n",
       "        vertical-align: top;\n",
       "    }\n",
       "\n",
       "    .dataframe thead th {\n",
       "        text-align: right;\n",
       "    }\n",
       "</style>\n",
       "<table border=\"1\" class=\"dataframe\">\n",
       "  <thead>\n",
       "    <tr style=\"text-align: right;\">\n",
       "      <th></th>\n",
       "      <th>French text</th>\n",
       "      <th>Expected text</th>\n",
       "      <th>Predicted text</th>\n",
       "    </tr>\n",
       "  </thead>\n",
       "  <tbody>\n",
       "    <tr>\n",
       "      <th>5</th>\n",
       "      <td>qui</td>\n",
       "      <td>who</td>\n",
       "      <td>who are you</td>\n",
       "    </tr>\n",
       "    <tr>\n",
       "      <th>7</th>\n",
       "      <td>au feu</td>\n",
       "      <td>fire</td>\n",
       "      <td>in   the truck</td>\n",
       "    </tr>\n",
       "    <tr>\n",
       "      <th>12</th>\n",
       "      <td>arrêtetoi</td>\n",
       "      <td>stop</td>\n",
       "      <td>i you</td>\n",
       "    </tr>\n",
       "    <tr>\n",
       "      <th>23</th>\n",
       "      <td>je lai emporté</td>\n",
       "      <td>i won</td>\n",
       "      <td>won</td>\n",
       "    </tr>\n",
       "    <tr>\n",
       "      <th>46</th>\n",
       "      <td>je suis tombé</td>\n",
       "      <td>i fell</td>\n",
       "      <td>i am his</td>\n",
       "    </tr>\n",
       "    <tr>\n",
       "      <th>59</th>\n",
       "      <td>en aucun cas</td>\n",
       "      <td>no way</td>\n",
       "      <td>its common case in</td>\n",
       "    </tr>\n",
       "    <tr>\n",
       "      <th>80</th>\n",
       "      <td>sois détendu</td>\n",
       "      <td>be cool</td>\n",
       "      <td>are you</td>\n",
       "    </tr>\n",
       "    <tr>\n",
       "      <th>82</th>\n",
       "      <td>soyez juste</td>\n",
       "      <td>be fair</td>\n",
       "      <td>be right</td>\n",
       "    </tr>\n",
       "    <tr>\n",
       "      <th>120</th>\n",
       "      <td>pars</td>\n",
       "      <td>go away</td>\n",
       "      <td>put up</td>\n",
       "    </tr>\n",
       "    <tr>\n",
       "      <th>133</th>\n",
       "      <td>adieu</td>\n",
       "      <td>goodbye</td>\n",
       "      <td>i you lonely</td>\n",
       "    </tr>\n",
       "  </tbody>\n",
       "</table>\n",
       "</div>"
      ],
      "text/plain": [
       "         French text  ...                                     Predicted text\n",
       "5               qui   ...        who are you                                \n",
       "7            au feu   ...       in   the truck                              \n",
       "12        arrêtetoi   ...             i you                                 \n",
       "23   je lai emporté   ...              won                                  \n",
       "46     je suis tombé  ...           i am his                                \n",
       "59      en aucun cas  ...  its common case in                               \n",
       "80     sois détendu   ...           are you                                 \n",
       "82      soyez juste   ...          be right                                 \n",
       "120            pars   ...            put up                                 \n",
       "133           adieu   ...       i you lonely                                \n",
       "\n",
       "[10 rows x 3 columns]"
      ]
     },
     "execution_count": 15,
     "metadata": {
      "tags": []
     },
     "output_type": "execute_result"
    }
   ],
   "source": [
    "\n",
    "predictedDataframe.head(10)"
   ]
  },
  {
   "cell_type": "markdown",
   "metadata": {
    "colab_type": "text",
    "id": "vxI95pCaGo_g"
   },
   "source": [
    "# ***Using corpus bleu function to calculate the Bleu score for data***"
   ]
  },
  {
   "cell_type": "code",
   "execution_count": 16,
   "metadata": {
    "colab": {
     "base_uri": "https://localhost:8080/",
     "height": 104
    },
    "colab_type": "code",
    "id": "LTJqNco-_MWj",
    "outputId": "568d5e95-37a1-48c5-e364-7d0b4d6c5a7a"
   },
   "outputs": [
    {
     "name": "stdout",
     "output_type": "stream",
     "text": [
      "BLEU score using corpus bleu function: 0.6572545038138027\n"
     ]
    },
    {
     "name": "stderr",
     "output_type": "stream",
     "text": [
      "/usr/local/lib/python3.6/dist-packages/nltk/translate/bleu_score.py:490: UserWarning: \n",
      "Corpus/Sentence contains 0 counts of 2-gram overlaps.\n",
      "BLEU scores might be undesirable; use SmoothingFunction().\n",
      "  warnings.warn(_msg)\n"
     ]
    }
   ],
   "source": [
    "print('BLEU score using corpus bleu function:',corpus_bleu(testDataNP[:,0], predictedText))"
   ]
  },
  {
   "cell_type": "markdown",
   "metadata": {
    "colab_type": "text",
    "id": "N8vuCXQhIM46"
   },
   "source": [
    "## ***Ploting training and validation losses***\n",
    "\n"
   ]
  },
  {
   "cell_type": "code",
   "execution_count": 17,
   "metadata": {
    "colab": {
     "base_uri": "https://localhost:8080/",
     "height": 265
    },
    "colab_type": "code",
    "id": "nvBTfUBbhTFq",
    "outputId": "36b0ef36-2000-4431-be00-1e568b67c6c4"
   },
   "outputs": [
    {
     "data": {
      "image/png": "[encoded data removed]",
      "text/plain": [
       "<Figure size 432x288 with 1 Axes>"
      ]
     },
     "metadata": {
      "tags": []
     },
     "output_type": "display_data"
    }
   ],
   "source": [
    "plt.plot(modelPrediction.history['loss'])\n",
    "plt.plot(modelPrediction.history['val_loss'])\n",
    "plt.legend(['training','validation'])\n",
    "plt.show()"
   ]
  }
 ],
 "metadata": {
  "accelerator": "TPU",
  "colab": {
   "collapsed_sections": [],
   "machine_shape": "hm",
   "name": "NMT_Fre_Eng.ipynb",
   "provenance": [],
   "toc_visible": true
  },
  "kernelspec": {
   "display_name": "Python 3",
   "language": "python",
   "name": "python3"
  },
  "language_info": {
   "codemirror_mode": {
    "name": "ipython",
    "version": 3
   },
   "file_extension": ".py",
   "mimetype": "text/x-python",
   "name": "python",
   "nbconvert_exporter": "python",
   "pygments_lexer": "ipython3",
   "version": "3.7.3"
  }
 },
 "nbformat": 4,
 "nbformat_minor": 1
}
